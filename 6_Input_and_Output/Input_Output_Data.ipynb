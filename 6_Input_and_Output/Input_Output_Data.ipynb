{
 "cells": [
  {
   "cell_type": "markdown",
   "id": "0600821d-9745-4b06-8c94-388e99002acd",
   "metadata": {},
   "source": [
    "Objective:\n",
    "Teach how to capture user input via the keyboard using the input() function.\n",
    "\n",
    "Content:\n",
    "Basic usage of input():\n",
    "\n",
    "How input() returns a string and the need to convert it to other data types if necessary (integers, floats, etc.).\n",
    "python\n",
    "Copiar código\n",
    "name = input(\"Enter your name: \")\n",
    "age = int(input(\"Enter your age: \"))\n",
    "Handling exceptions when converting inputs:\n",
    "\n",
    "How to handle invalid inputs using try and except.\n",
    "python\n",
    "Copiar código\n",
    "try:\n",
    "    age = int(input(\"Enter your age: \"))\n",
    "except ValueError:\n",
    "    print(\"Invalid input! Please enter a number.\")\n",
    "Multiple inputs:\n",
    "\n",
    "How to capture multiple values in a single input using split().\n",
    "python\n",
    "Copiar código\n",
    "numbers = input(\"Enter three numbers separated by space: \").split()\n",
    "num1, num2, num3 = map(int, numbers)"
   ]
  },
  {
   "cell_type": "markdown",
   "id": "1be228bf-0e23-4b78-b480-30e04e8c9de4",
   "metadata": {},
   "source": [
    "Objective:\n",
    "Explain how to print data and format the output using the print() function.\n",
    "\n",
    "Content:\n",
    "Basic usage of print():\n",
    "\n",
    "Simple examples of displaying strings and variables.\n",
    "python\n",
    "Copiar código\n",
    "name = \"Alice\"\n",
    "print(\"Hello,\", name)\n",
    "print() parameters:\n",
    "\n",
    "Using the sep (separator) and end (end of line) parameters to customize output.\n",
    "python\n",
    "Copiar código\n",
    "print(\"apple\", \"banana\", \"cherry\", sep=\", \", end=\".\\n\")\n",
    "String formatting:\n",
    "\n",
    "Using f-strings and .format() to format the output.\n",
    "python\n",
    "Copiar código\n",
    "age = 30\n",
    "print(f\"Hello, {name}. You are {age} years old.\")\n",
    "Printing multiple lines:\n",
    "\n",
    "How to use \\n to print multiple lines.\n",
    "python\n",
    "Copiar código\n",
    "print(\"Line 1\\nLine 2\\nLine 3\")"
   ]
  }
 ],
 "metadata": {
  "kernelspec": {
   "display_name": "Python 3 (ipykernel)",
   "language": "python",
   "name": "python3"
  },
  "language_info": {
   "codemirror_mode": {
    "name": "ipython",
    "version": 3
   },
   "file_extension": ".py",
   "mimetype": "text/x-python",
   "name": "python",
   "nbconvert_exporter": "python",
   "pygments_lexer": "ipython3",
   "version": "3.9.20"
  }
 },
 "nbformat": 4,
 "nbformat_minor": 5
}
