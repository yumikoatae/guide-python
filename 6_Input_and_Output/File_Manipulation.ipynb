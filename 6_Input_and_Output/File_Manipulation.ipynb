{
 "cells": [
  {
   "cell_type": "markdown",
   "id": "d276e987-8f42-4945-89bb-b308666c4402",
   "metadata": {},
   "source": [
    "Objective:\n",
    "Demonstrate how to read, write, and manipulate files in Python.\n",
    "\n",
    "Content:\n",
    "Opening files with open():\n",
    "\n",
    "Using open() to open files in different modes: read (r), write (w), append (a).\n",
    "python\n",
    "Copiar código\n",
    "file = open(\"example.txt\", \"r\")\n",
    "Reading files:\n",
    "\n",
    "Using read(), readline(), and readlines() to read file content.\n",
    "python\n",
    "Copiar código\n",
    "content = file.read()\n",
    "line = file.readline()\n",
    "lines = file.readlines()\n",
    "Writing to files:\n",
    "\n",
    "Using write mode (w) to overwrite a file and append mode (a) to add to the end of a file.\n",
    "python\n",
    "Copiar código\n",
    "file = open(\"example.txt\", \"w\")\n",
    "file.write(\"This is a new line.\")\n",
    "Using with for file management:\n",
    "\n",
    "Explaining how with automatically closes the file after the operation.\n",
    "python\n",
    "Copiar código\n",
    "with open(\"example.txt\", \"r\") as file:\n",
    "    content = file.read()\n",
    "Working with CSV files:\n",
    "\n",
    "Introduction to using the csv module to read and write CSV files.\n",
    "python\n",
    "Copiar código\n",
    "import csv\n",
    "\n",
    "with open('data.csv', 'r') as file:\n",
    "    reader = csv.reader(file)\n",
    "    for row in reader:\n",
    "        print(row)"
   ]
  }
 ],
 "metadata": {
  "kernelspec": {
   "display_name": "Python 3 (ipykernel)",
   "language": "python",
   "name": "python3"
  },
  "language_info": {
   "codemirror_mode": {
    "name": "ipython",
    "version": 3
   },
   "file_extension": ".py",
   "mimetype": "text/x-python",
   "name": "python",
   "nbconvert_exporter": "python",
   "pygments_lexer": "ipython3",
   "version": "3.9.20"
  }
 },
 "nbformat": 4,
 "nbformat_minor": 5
}
