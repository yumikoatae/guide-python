{
 "cells": [
  {
   "cell_type": "markdown",
   "id": "f62f3adc-90e4-4258-ae7f-6622a2a6c5e6",
   "metadata": {},
   "source": [
    "## Mathematical Functions"
   ]
  },
  {
   "cell_type": "markdown",
   "id": "b3b62bda-7646-4deb-9c0e-627e8290bd28",
   "metadata": {},
   "source": [
    "**`pow()`**: Raises a base to an exponent. Optionally takes a modulus.\n",
    "  ```python\n",
    "  pow(2, 3)  # Returns 8 = (2³)"
   ]
  },
  {
   "cell_type": "markdown",
   "id": "796b17e1-b573-4782-b0cc-ce90133f1761",
   "metadata": {},
   "source": [
    "**`max()`**: Returns the **largest** of the given arguments or the largest item in an iterable.\n",
    "  ```python\n",
    "  max(1, 2, 3, 4)  # Returns 4"
   ]
  },
  {
   "cell_type": "markdown",
   "id": "6b71fe59-f447-4ef1-99d1-21a867f64618",
   "metadata": {},
   "source": [
    "**`min()`**: Returns the **smallest** of the given arguments or the smallest item in an iterable.\n",
    "  ```python\n",
    "  min(1, 2, 3, 4) 1  # Returns 1"
   ]
  },
  {
   "cell_type": "markdown",
   "id": "22e4206e-d83a-4307-9d71-739f08c12ad2",
   "metadata": {},
   "source": [
    "**`abs()`**: Returns the **absolute** value of a number.\n",
    "  ```python\n",
    "  abs(-5)   # Returns 5"
   ]
  },
  {
   "cell_type": "markdown",
   "id": "95f60b09-d486-4dda-9f0c-86c6f0d889b4",
   "metadata": {},
   "source": [
    "**`round()`**: **Rounds** a number to the nearest integer or to a specified number of decimal places.\n",
    "  ```python\n",
    "  round(3.14159, 2)   # Returns 3.14"
   ]
  },
  {
   "cell_type": "markdown",
   "id": "af5f9163-35c8-4329-9757-2bbd81c481aa",
   "metadata": {},
   "source": [
    "## Understanding the `help()` Function in Python\n",
    "\n",
    "The `help()` function displays documentation for modules, functions, classes, and more, providing an interactive way to access Python's help system."
   ]
  },
  {
   "cell_type": "markdown",
   "id": "afab1e38-1048-4bf9-97b7-2fed1dc5a70e",
   "metadata": {},
   "source": [
    "#### Usage\n",
    "\n",
    "**General Help**: Call `help()` to enter interactive help mode.\n",
    "\n",
    "**Specific Object**: Pass an object to get its documentation.\n",
    "```python\n",
    "help(str)  # Documentation for the str class\n",
    "help(len)  # Documentation for the len function"
   ]
  }
 ],
 "metadata": {
  "kernelspec": {
   "display_name": "Python 3 (ipykernel)",
   "language": "python",
   "name": "python3"
  },
  "language_info": {
   "codemirror_mode": {
    "name": "ipython",
    "version": 3
   },
   "file_extension": ".py",
   "mimetype": "text/x-python",
   "name": "python",
   "nbconvert_exporter": "python",
   "pygments_lexer": "ipython3",
   "version": "3.9.20"
  }
 },
 "nbformat": 4,
 "nbformat_minor": 5
}
