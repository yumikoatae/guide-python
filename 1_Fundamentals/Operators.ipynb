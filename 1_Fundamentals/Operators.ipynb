{
 "cells": [
  {
   "cell_type": "markdown",
   "id": "eccf564f-8320-4d61-9b29-49b143272b61",
   "metadata": {},
   "source": [
    "## Logical Operators\n",
    "\n",
    "Logical operators combine boolean expressions."
   ]
  },
  {
   "cell_type": "markdown",
   "id": "e654eb86-d02b-4caf-a181-1fe200bf78f1",
   "metadata": {},
   "source": [
    "**`and`**: Returns **True** if both expressions are true.\n",
    "  ```python\n",
    "  a = True\n",
    "  b = False\n",
    "  result = a and b  # Returns False"
   ]
  },
  {
   "cell_type": "markdown",
   "id": "611e6650-0236-4fab-9fb1-f9dc30b18815",
   "metadata": {},
   "source": [
    "**`or`**: Returns **True** if at least one expression is true.\n",
    "  ```python\n",
    "  a = True\n",
    "  b = False\n",
    "  result = a or b  # Returns True"
   ]
  },
  {
   "cell_type": "markdown",
   "id": "3dac0d1d-c891-4eca-a815-ab7d34448be0",
   "metadata": {},
   "source": [
    "**`not`**: Inverts the boolean value of the expression.\n",
    "  ```python\n",
    "  a = True\n",
    "  result = not a  # Returns False"
   ]
  },
  {
   "cell_type": "markdown",
   "id": "a6a73595-de4d-44cf-875f-7cbbf360055e",
   "metadata": {},
   "source": [
    "## Arithmetic Operators\n",
    "\n",
    "<table style=\"font-size: 14px; border-collapse: collapse; width: 50%;\">\n",
    "    <tr>\n",
    "        <th style=\"border: none; padding: 5px; text-align: center;\">Operator</th>\n",
    "        <th style=\"border: none; padding: 5px; text-align: center;\">Description</th>\n",
    "        <th style=\"border: none; padding: 5px; text-align: center;\">Example</th>\n",
    "    </tr>\n",
    "    <tr>\n",
    "        <td style=\"border: none; padding: 5px; text-align: center;\"><strong>+</strong></td>\n",
    "        <td style=\"border: none; padding: 5px; text-align: center;\">Addition</td>\n",
    "        <td style=\"border: none; padding: 5px; text-align: center;\"><code>3 + 2</code> → 5</td>\n",
    "    </tr>\n",
    "    <tr>\n",
    "        <td style=\"border: none; padding: 5px; text-align: center;\"><strong>-</strong></td>\n",
    "        <td style=\"border: none; padding: 5px; text-align: center;\">Subtraction</td>\n",
    "        <td style=\"border: none; padding: 5px; text-align: center;\"><code>5 - 3</code> → 2</td>\n",
    "    </tr>\n",
    "    <tr>\n",
    "        <td style=\"border: none; padding: 5px; text-align: center;\"><strong>*</strong></td>\n",
    "        <td style=\"border: none; padding: 5px; text-align: center;\">Multiplication</td>\n",
    "        <td style=\"border: none; padding: 5px; text-align: center;\"><code>4 * 2</code> → 8</td>\n",
    "    </tr>\n",
    "    <tr>\n",
    "        <td style=\"border: none; padding: 5px; text-align: center;\"><strong>/</strong></td>\n",
    "        <td style=\"border: none; padding: 5px; text-align: center;\">Division</td>\n",
    "        <td style=\"border: none; padding: 5px; text-align: center;\"><code>7 / 2</code> → 3.5</td>\n",
    "    </tr>\n",
    "    <tr>\n",
    "        <td style=\"border: none; padding: 5px; text-align: center;\"><strong>//</strong></td>\n",
    "        <td style=\"border: none; padding: 5px; text-align: center;\">Floor Division</td>\n",
    "        <td style=\"border: none; padding: 5px; text-align: center;\"><code>7 // 2</code> → 3</td>\n",
    "    </tr>\n",
    "    <tr>\n",
    "        <td style=\"border: none; padding: 5px; text-align: center;\"><strong>%</strong></td>\n",
    "        <td style=\"border: none; padding: 5px; text-align: center;\">Modulus</td>\n",
    "        <td style=\"border: none; padding: 5px; text-align: center;\"><code>7 % 2</code> → 1</td>\n",
    "    </tr>\n",
    "    <tr>\n",
    "        <td style=\"border: none; padding: 5px; text-align: center;\"><strong>**</strong></td>\n",
    "        <td style=\"border: none; padding: 5px; text-align: center;\">Exponentiation</td>\n",
    "        <td style=\"border: none; padding: 5px; text-align: center;\"><code>2 ** 3</code> → 8</td>\n",
    "    </tr>\n",
    "</table>\n"
   ]
  },
  {
   "cell_type": "markdown",
   "id": "912cb6ce-5cda-4c2e-afb0-67356ebb0a4c",
   "metadata": {},
   "source": [
    "## Relational Operators"
   ]
  },
  {
   "cell_type": "markdown",
   "id": "286ab47c-8c04-4de9-9bbe-c73929c8412b",
   "metadata": {},
   "source": [
    "<table style=\"font-size: 14px; border-collapse: collapse; width: 50%;\">\n",
    "    <tr>\n",
    "        <th style=\"border: none; padding: 5px; text-align: center;\">Operator</th>\n",
    "        <th style=\"border: none; padding: 5px; text-align: center;\">Description</th>\n",
    "        <th style=\"border: none; padding: 5px; text-align: center;\">Example</th>\n",
    "    </tr>\n",
    "    <tr>\n",
    "        <td style=\"border: none; padding: 5px; text-align: center;\"><strong>==</strong></td>\n",
    "        <td style=\"border: none; padding: 5px; text-align: center;\">Equal to.</td>\n",
    "        <td style=\"border: none; padding: 5px; text-align: center;\"><code>5 == 5</code> → True</td>\n",
    "    </tr>\n",
    "    <tr>\n",
    "        <td style=\"border: none; padding: 5px; text-align: center;\"><strong>!=</strong></td>\n",
    "        <td style=\"border: none; padding: 5px; text-align: center;\">Not equal to.</td>\n",
    "        <td style=\"border: none; padding: 5px; text-align: center;\"><code>5 != 3</code> → True</td>\n",
    "    </tr>\n",
    "    <tr>\n",
    "        <td style=\"border: none; padding: 5px; text-align: center;\"><strong>&gt;</strong></td>\n",
    "        <td style=\"border: none; padding: 5px; text-align: center;\">Greater than.</td>\n",
    "        <td style=\"border: none; padding: 5px; text-align: center;\"><code>5 > 3</code> → True</td>\n",
    "    </tr>\n",
    "    <tr>\n",
    "        <td style=\"border: none; padding: 5px; text-align: center;\"><strong>&lt;</strong></td>\n",
    "        <td style=\"border: none; padding: 5px; text-align: center;\">Less than.</td>\n",
    "        <td style=\"border: none; padding: 5px; text-align: center;\"><code>3 < 5</code> → True</td>\n",
    "    </tr>\n",
    "    <tr>\n",
    "        <td style=\"border: none; padding: 5px; text-align: center;\"><strong>&gt;=</strong></td>\n",
    "        <td style=\"border: none; padding: 5px; text-align: center;\">Greater than or equal to.</td>\n",
    "        <td style=\"border: none; padding: 5px; text-align: center;\"><code>5 >= 5</code> → True</td>\n",
    "    </tr>\n",
    "    <tr>\n",
    "        <td style=\"border: none; padding: 5px; text-align: center;\"><strong>&lt;=</strong></td>\n",
    "        <td style=\"border: none; padding: 5px; text-align: center;\">Less than or equal to.</td>\n",
    "        <td style=\"border: none; padding: 5px; text-align: center;\"><code>3 <= 5</code> → True</td>\n",
    "    </tr>\n",
    "</table>"
   ]
  },
  {
   "cell_type": "markdown",
   "id": "ee1f8440-92eb-418d-a40d-0a47095e895c",
   "metadata": {},
   "source": [
    "## Special Operators\n"
   ]
  },
  {
   "cell_type": "markdown",
   "id": "6fd04ac5-02b5-43b0-af68-876450f33e80",
   "metadata": {},
   "source": [
    "#### **Membership Operators**\n",
    "Use membership operators to check for the existence of a value in a collection.\n",
    "    \n",
    "**`in`**  Returns **True** if a value exists in a sequence (e.g., list, tuple, string).\n",
    "\n",
    "**`not in`**  Returns **True** if a value does not exist in a sequence.\n",
    "\n",
    "  ```python\n",
    "  my_list = [1, 2, 3]\n",
    "  result = 2 in my_list  # Returns True"
   ]
  },
  {
   "cell_type": "markdown",
   "id": "f7acc868-d58e-468a-b259-fcf848871ea6",
   "metadata": {},
   "source": [
    "#### **Identity Operators**\n",
    "Use identity operators to compare whether two variables point to the same object in memory.\n",
    "\n",
    "**`is`** Returns **True** if two variables refer to the same object in memory.\n",
    "\n",
    "**`is not`** Returns **True** if two variables do not refer to the same object.\n",
    "\n",
    "  \n",
    "  ```python\n",
    "  c = [1, 2, 3]\n",
    "  result = a is not c  # Returns True"
   ]
  }
 ],
 "metadata": {
  "kernelspec": {
   "display_name": "Python 3 (ipykernel)",
   "language": "python",
   "name": "python3"
  },
  "language_info": {
   "codemirror_mode": {
    "name": "ipython",
    "version": 3
   },
   "file_extension": ".py",
   "mimetype": "text/x-python",
   "name": "python",
   "nbconvert_exporter": "python",
   "pygments_lexer": "ipython3",
   "version": "3.9.20"
  }
 },
 "nbformat": 4,
 "nbformat_minor": 5
}
