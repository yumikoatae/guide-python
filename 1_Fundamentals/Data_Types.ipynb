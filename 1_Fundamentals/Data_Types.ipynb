{
 "cells": [
  {
   "cell_type": "markdown",
   "id": "c6dbe7f2-8327-4516-a9c1-2f6212f30794",
   "metadata": {},
   "source": [
    "## Variable in Python\n",
    "\n",
    "A variable is a name assigned to a value, allowing for data storage and manipulation. The type is inferred automatically based on the assigned value."
   ]
  },
  {
   "cell_type": "code",
   "execution_count": 1,
   "id": "8fdb486a-feb1-48e4-b6f4-58542533f59a",
   "metadata": {},
   "outputs": [
    {
     "name": "stdout",
     "output_type": "stream",
     "text": [
      "Hello World!\n"
     ]
    }
   ],
   "source": [
    "variable = \"World\"\n",
    "print(f\"Hello {variable}!\")   # Hello World!"
   ]
  },
  {
   "cell_type": "markdown",
   "id": "0c653b14-4cba-4844-ad99-0d7c1fca8bc4",
   "metadata": {},
   "source": [
    "## Dynamic Typing in Python\n",
    "\n",
    "Python is a dynamically typed language, meaning that variable types are determined at runtime.\n",
    "\n",
    "**Variable Type Assignment**: You don’t need to declare variable types explicitly; a variable can change types during execution.\n",
    "\n",
    "**Flexibility**: This allows for quick coding and easier modifications.\n",
    "\n",
    "**Type Checking**: Type checks happen at runtime, which can lead to runtime errors if incompatible types are used together.\n",
    "\n",
    "**Implications**: While dynamic typing enhances flexibility, it may introduce bugs that are harder to detect early. Type hints can be used to improve clarity and maintainability."
   ]
  },
  {
   "cell_type": "markdown",
   "id": "bc3948be-1943-46f6-85dd-6ca868383601",
   "metadata": {},
   "source": [
    "## Typecasting\n",
    "\n",
    "Typecasting refers to the process of converting a variable from one data type to another. This allows for flexibility in data manipulation and ensures compatibility between different data types in Python."
   ]
  },
  {
   "cell_type": "markdown",
   "id": "69da1078-0d61-4ad7-a3d3-16e41cdd25e9",
   "metadata": {},
   "source": [
    "**`int()`**: Converts a variable to an **integer**.  \n",
    "```python\n",
    "list_str = [\"1\", \"2\", \"3\"]\n",
    "list_int = [int(num) for num in list_str]  # Output: [1, 2, 3]\n",
    "print(list_int)"
   ]
  },
  {
   "cell_type": "markdown",
   "id": "ffe8a6b1-afb7-43f8-bedf-dce046915add",
   "metadata": {},
   "source": [
    "**`float()`**: Converts a variable to a **float**.  \n",
    "```python\n",
    "numbers = [\"1.5\", \"2.3\", \"3.7\"]\n",
    "float_numbers = [float(num) for num in numbers]  # Output: [1.5, 2.3, 3.7]\n",
    "print(float_numbers)"
   ]
  },
  {
   "cell_type": "markdown",
   "id": "41f5fa2e-fa4b-47bb-b03a-fef26daea621",
   "metadata": {},
   "source": [
    "**`str()`**: Converts a variable to a **string**.  \n",
    "```python\n",
    "numbers = [1, 2, 3]\n",
    "string_numbers = [str(num) for num in numbers]  # Output: ['1', '2', '3']\n",
    "print(string_numbers)"
   ]
  },
  {
   "cell_type": "markdown",
   "id": "419c3604-6842-4b0b-81cf-e17bf573a28d",
   "metadata": {},
   "source": [
    "**`bool()`**: Converts a variable to a **boolean**.  \n",
    "```python\n",
    "values = [0, 1, \"\", \"Hello\"]\n",
    "bool_values = [bool(value) for value in values]  # Output: [False, True, False, True]\n",
    "print(bool_values)"
   ]
  },
  {
   "cell_type": "markdown",
   "id": "108e783b-f9b7-4749-b704-03bfa89e86be",
   "metadata": {},
   "source": [
    "**`list()`**: Converts a variable to a **list**.  \n",
    "```python\n",
    "tuple_data = (1, 2, 3)\n",
    "list_data = list(tuple_data)  # Output: [1, 2, 3]\n",
    "print(list_data)"
   ]
  },
  {
   "cell_type": "markdown",
   "id": "bf912677-e26e-4f27-942f-5f5321a7184f",
   "metadata": {},
   "source": [
    "**`tuple()`**: Converts a variable to a **tuple**.  \n",
    "```python\n",
    "list_data = [1, 2, 3]\n",
    "tuple_data = tuple(list_data)  # Output: (1, 2, 3)\n",
    "print(tuple_data)"
   ]
  },
  {
   "cell_type": "markdown",
   "id": "3634e0b3-fa16-436b-9ae5-cf081c153de9",
   "metadata": {},
   "source": [
    "## Type Checking\n",
    "\n",
    "You can check the type of a variable using the `type()` function."
   ]
  },
  {
   "cell_type": "code",
   "execution_count": 2,
   "id": "2caa16ce-abf8-4543-ba23-336759571568",
   "metadata": {},
   "outputs": [
    {
     "name": "stdout",
     "output_type": "stream",
     "text": [
      "<class 'int'>\n",
      "<class 'float'>\n"
     ]
    }
   ],
   "source": [
    "a = 10\n",
    "b = 20.5\n",
    "print(type(a))  # Output: <class 'int'>\n",
    "print(type(b))  # Output: <class 'float'>"
   ]
  }
 ],
 "metadata": {
  "kernelspec": {
   "display_name": "Python 3 (ipykernel)",
   "language": "python",
   "name": "python3"
  },
  "language_info": {
   "codemirror_mode": {
    "name": "ipython",
    "version": 3
   },
   "file_extension": ".py",
   "mimetype": "text/x-python",
   "name": "python",
   "nbconvert_exporter": "python",
   "pygments_lexer": "ipython3",
   "version": "3.9.20"
  }
 },
 "nbformat": 4,
 "nbformat_minor": 5
}
