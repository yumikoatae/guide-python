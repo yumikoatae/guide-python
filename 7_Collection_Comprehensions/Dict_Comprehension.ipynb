{
 "cells": [
  {
   "cell_type": "markdown",
   "id": "8aa02b68-d3ea-4450-bf4e-1b27feca6c34",
   "metadata": {},
   "source": [
    "# Dict Comprehensions in Python\n",
    "\n",
    "Dict comprehensions are a concise and efficient way to create dictionaries in Python using a single line of code. The syntax is similar to list comprehensions but is specifically used for dictionaries.\n",
    "\n",
    "**Syntax**\n",
    "\n",
    "```python\n",
    "{key: value for item in iterable if condition}"
   ]
  },
  {
   "cell_type": "markdown",
   "id": "75648989-2257-4f6f-96b9-a7804e8041f3",
   "metadata": {},
   "source": [
    "**`key`**: The key that will be created in the dictionary.\n",
    "\n",
    "**`value`**: The value associated with the key.\n",
    "\n",
    "**`item`**: The current element of the iterable.\n",
    "\n",
    "**`iterable`**: A list, tuple, set, etc.\n",
    "\n",
    "**`condition`**: An optional expression that filters the items.\n",
    "\n",
    "\n",
    "```python\n",
    "# Example 1: Creating a Simple Dictionary\n",
    "squares = {x: x**2 for x in range(5)}\n",
    "print(squares)\n",
    "Output: \n",
    "{0: 0, 1: 1, 2: 4, 3: 9, 4: 16}\n",
    "#In this example, each number from 0 to 4 is mapped to its square.\n",
    "\n",
    "\n",
    "# Example 2: Using Conditions\n",
    "even_squares = {x: x**2 for x in range(10) if x % 2 == 0}\n",
    "print(even_squares)\n",
    "Output: \n",
    "{0: 0, 2: 4, 4: 16, 6: 36, 8: 64}\n",
    "#Here, only the even numbers were included in the dictionary.\n",
    "\n",
    "    \n",
    "# Example 3: Creating Dictionaries from Lists\n",
    "keys = ['a', 'b', 'c']\n",
    "values = [1, 2, 3]\n",
    "dictionary = {keys[i]: values[i] for i in range(len(keys))}\n",
    "print(dictionary)\n",
    "Output:\n",
    "{'a': 1, 'b': 2, 'c': 3}\n",
    "#In this example, we created a dictionary where the keys come from the keys list and the values come from the values list."
   ]
  },
  {
   "cell_type": "markdown",
   "id": "63ef283b-f70d-4247-ab05-a3222c54816b",
   "metadata": {},
   "source": [
    "### **Advantages**\n",
    "\n",
    "**Conciseness:** Dict comprehensions allow for compact dictionary creation, reducing the number of lines of code.\n",
    "\n",
    "**Readability:** When used appropriately, they can make the code more readable and expressive.\n",
    "\n",
    "**Efficiency:** Creating dictionaries with dict comprehensions can be faster than traditional methods, especially for large datasets.\n",
    "\n",
    "\n",
    "\n",
    "#### **Conclusion**\n",
    "Dict comprehensions are a powerful tool in Python for creating dictionaries in a clear and concise manner. They are particularly useful when you want to apply transformations or filter elements efficiently. "
   ]
  }
 ],
 "metadata": {
  "kernelspec": {
   "display_name": "Python 3 (ipykernel)",
   "language": "python",
   "name": "python3"
  },
  "language_info": {
   "codemirror_mode": {
    "name": "ipython",
    "version": 3
   },
   "file_extension": ".py",
   "mimetype": "text/x-python",
   "name": "python",
   "nbconvert_exporter": "python",
   "pygments_lexer": "ipython3",
   "version": "3.9.20"
  }
 },
 "nbformat": 4,
 "nbformat_minor": 5
}
