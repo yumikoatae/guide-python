{
 "cells": [
  {
   "cell_type": "markdown",
   "id": "77b8a874-8212-4f43-89d5-5fee190fa6cd",
   "metadata": {},
   "source": [
    "### List Comprehension\n",
    "\n",
    "List comprehension is a concise and elegant way to create lists in Python. It allows you to generate new lists from existing lists (or other iterables) in a more readable and compact manner.\n",
    "\n",
    "**Syntax** \n",
    "\n",
    "```python\n",
    "\n",
    "new_list = [expression for item in iterable if condition]"
   ]
  },
  {
   "cell_type": "markdown",
   "id": "08e59c2d-9b4e-4943-bc82-2d2930c4e202",
   "metadata": {},
   "source": [
    "**`expression`**: What you want to include in the new list.\n",
    "\n",
    "**`item`**: The current element from the iterable.\n",
    "\n",
    "**`iterable`**: The collection (like a list, tuple, etc.) you are iterating over.\n",
    "\n",
    "**`condition`**: (optional) A filter to include only items that meet a specific criterion.\n",
    "\n",
    "    \n",
    "**Examples**\n",
    "\n",
    "```python\n",
    "Creating a List of Squares:\n",
    "squares = [x**2 for x in range(10)]\n",
    "# Result: [0, 1, 4, 9, 16, 25, 36, 49, 64, 81]\n",
    "\n",
    "\n",
    "Filtering Even Numbers:\n",
    "evens = [x for x in range(10) if x % 2 == 0]\n",
    "# Result: [0, 2, 4, 6, 8]\n",
    "\n",
    "\n",
    "Transforming Elements to Uppercase:\n",
    "names = [\"ana\", \"joão\", \"maria\"]\n",
    "uppercase_names = [name.upper() for name in names]\n",
    "# Result: ['ANA', 'JOÃO', 'MARIA']"
   ]
  },
  {
   "cell_type": "markdown",
   "id": "1ce36da8-444e-4075-be3c-647d14304758",
   "metadata": {},
   "source": [
    "**Advantages**\n",
    "  \n",
    "**Conciseness:** Requires fewer lines of code compared to equivalent loops.\n",
    "\n",
    "**Readability:** Often makes the intent of the code clearer.\n",
    "\n",
    "**Performance:** Generally faster than creating lists using loops."
   ]
  }
 ],
 "metadata": {
  "kernelspec": {
   "display_name": "Python 3 (ipykernel)",
   "language": "python",
   "name": "python3"
  },
  "language_info": {
   "codemirror_mode": {
    "name": "ipython",
    "version": 3
   },
   "file_extension": ".py",
   "mimetype": "text/x-python",
   "name": "python",
   "nbconvert_exporter": "python",
   "pygments_lexer": "ipython3",
   "version": "3.9.20"
  }
 },
 "nbformat": 4,
 "nbformat_minor": 5
}
