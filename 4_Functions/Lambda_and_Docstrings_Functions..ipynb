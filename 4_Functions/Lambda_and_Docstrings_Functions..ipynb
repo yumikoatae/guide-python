{
 "cells": [
  {
   "cell_type": "markdown",
   "id": "0c13ce63-e32f-4b12-9cff-9ac2f93824bd",
   "metadata": {},
   "source": [
    "## Anonymous Functions (Lambda functions)\n",
    "\n",
    "Lambda functions are a concise way to define small, anonymous functions in Python.\n",
    "\n",
    "**Usage:** They are typically used when you need a function for a short period or only once.\n",
    "\n",
    "**Syntax**\n",
    "```python\n",
    "lambda arguments: expression\n",
    "\n",
    "sum = lambda x, y: x + y\n",
    "result = sum(2, 3)  # result will be 5"
   ]
  },
  {
   "cell_type": "markdown",
   "id": "b98bb6bd-db0a-4e07-854a-fd45cfd0c588",
   "metadata": {},
   "source": [
    "## Function Documentation\n",
    "\n",
    "**Using Docstrings**: Docstrings are documentation strings that describe what the function does. They are placed immediately below the function definition and can be accessed using **`.__doc__`**.\n",
    "\n",
    "```python\n",
    "\n",
    "def add(a, b):\n",
    "    \"\"\"Returns the sum of a and b.\"\"\"\n",
    "    return a + b\n",
    "\n",
    "print(add.__doc__)  # Displays: \"Returns the sum of a and b.\""
   ]
  }
 ],
 "metadata": {
  "kernelspec": {
   "display_name": "Python 3 (ipykernel)",
   "language": "python",
   "name": "python3"
  },
  "language_info": {
   "codemirror_mode": {
    "name": "ipython",
    "version": 3
   },
   "file_extension": ".py",
   "mimetype": "text/x-python",
   "name": "python",
   "nbconvert_exporter": "python",
   "pygments_lexer": "ipython3",
   "version": "3.9.20"
  }
 },
 "nbformat": 4,
 "nbformat_minor": 5
}
