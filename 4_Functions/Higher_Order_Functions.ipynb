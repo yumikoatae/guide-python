{
 "cells": [
  {
   "cell_type": "markdown",
   "id": "d941a583-1a32-45b9-834e-547459a88dc8",
   "metadata": {},
   "source": [
    "# High-Order Functions in Python\n",
    "\n",
    "These functions are useful for creating more abstract and flexible code. High-order functions allow you to treat functions as data, enabling various powerful functional programming techniques.\n",
    "\n",
    "A high-order function is a function that:\n",
    "\n",
    "**`1. Take Another Function as an Argument`**\n",
    "\n",
    "**`map()`**: Applies a function to all items in an iterable (like a list) and returns a new iterable with the results.\n",
    "\n",
    "```python\n",
    "\n",
    "# Function that multiplies a number by 2\n",
    "def multiply_by_2(x):\n",
    "    return x * 2\n",
    "\n",
    "# List of numbers\n",
    "numbers = [1, 2, 3, 4, 5]\n",
    "\n",
    "# Using map to apply multiply_by_2 to each element in the list\n",
    "result = list(map(multiply_by_2, numbers))\n",
    "print(result)  # Output: [2, 4, 6, 8, 10]"
   ]
  },
  {
   "cell_type": "markdown",
   "id": "89cb3362-e7b8-4d01-8cfe-82606dc8a194",
   "metadata": {},
   "source": [
    "**`filter()`**: Filters items in an iterable based on a function that returns True or False.\n",
    "\n",
    "```python\n",
    "# Function that returns True for even numbers\n",
    "def is_even(x):\n",
    "    return x % 2 == 0\n",
    "\n",
    "# Filtering only the even numbers from the list\n",
    "even_numbers = list(filter(is_even, numbers))\n",
    "print(even_numbers)  # Output: [2, 4]"
   ]
  },
  {
   "cell_type": "markdown",
   "id": "e5aea515-3109-4da1-91f7-21411ee3d464",
   "metadata": {},
   "source": [
    "**`reduce()`**: Applies an accumulation function to all items in an iterable, returning a single value. This function is available in the functools module.\n",
    "\n",
    "```python\n",
    "from functools import reduce\n",
    "\n",
    "# Function to add two numbers\n",
    "def add(x, y):\n",
    "    return x + y\n",
    "\n",
    "# Using reduce to sum all the numbers in the list\n",
    "total = reduce(add, numbers)\n",
    "print(total)  # Output: 15"
   ]
  },
  {
   "cell_type": "markdown",
   "id": "81f78261-9854-4662-b22a-c701a3e9b090",
   "metadata": {},
   "source": [
    "**`2. Functions That Return Another Function`**\n",
    "   \n",
    "You can also create functions that return other functions.\n",
    "\n",
    "```python\n",
    "# Function that creates a multiplier function\n",
    "def create_multiplier(factor):\n",
    "    def multiplier(x):\n",
    "        return x * factor\n",
    "    return multiplier\n",
    "\n",
    "multiply_by_3 = create_multiplier(3)  # Returns a function that multiplies by 3\n",
    "print(multiply_by_3(10))  # Output: 30"
   ]
  },
  {
   "cell_type": "markdown",
   "id": "17ee2ac5-b6cb-42c3-b920-f872a339b992",
   "metadata": {},
   "source": [
    "## Advantages of High-Order Functions\n",
    "\n",
    "**Code Reuse:** You can create generic functions that accept other functions as arguments, allowing for greater reuse.\n",
    "\n",
    "**Modularity:** Code tends to be more modular and easier to read/maintain when using high-order functions.\n",
    "\n",
    "**Conciseness:** You can express complex operations more simply, often using anonymous functions (lambdas) and high-order functions."
   ]
  }
 ],
 "metadata": {
  "kernelspec": {
   "display_name": "Python 3 (ipykernel)",
   "language": "python",
   "name": "python3"
  },
  "language_info": {
   "codemirror_mode": {
    "name": "ipython",
    "version": 3
   },
   "file_extension": ".py",
   "mimetype": "text/x-python",
   "name": "python",
   "nbconvert_exporter": "python",
   "pygments_lexer": "ipython3",
   "version": "3.9.20"
  }
 },
 "nbformat": 4,
 "nbformat_minor": 5
}
