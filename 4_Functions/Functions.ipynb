{
 "cells": [
  {
   "cell_type": "markdown",
   "id": "3a1dc87e-8c2e-4bac-a569-79d0fc8872b9",
   "metadata": {},
   "source": [
    "# Functions"
   ]
  },
  {
   "cell_type": "markdown",
   "id": "a594057d-f9e1-4d12-8ecf-4d35fa127ee3",
   "metadata": {},
   "source": [
    "**Syntax:** The basic syntax for defining a function in Python uses the def keyword, followed by the function name and parentheses that may contain parameters. The function's code block must be indented.\n",
    "\n",
    "```python\n",
    "\n",
    "def function_name(parameter1, parameter2):\n",
    "    # Function code\n",
    "    return result"
   ]
  },
  {
   "cell_type": "markdown",
   "id": "ef5d26d6-90e9-4973-97f3-6b9cd43ced9c",
   "metadata": {},
   "source": [
    "**`Parameters`**: Parameters are variables that you can pass to the function. They allow you to send information for the function to process.\n",
    "\n",
    "**`Return Values`**: The function can return a value using the return keyword. If there is no return, the function will return None by default."
   ]
  },
  {
   "cell_type": "markdown",
   "id": "2cfa7437-856c-460e-862c-330f7042a7fa",
   "metadata": {},
   "source": [
    "## Optional Parameters\n",
    "\n",
    "**`1. Positional Arguments`**\n",
    "\n",
    "Positional arguments are the arguments you pass to a function in the order they are defined. The position is important because Python assigns each argument to the corresponding variable in the function based on this order.\n",
    "\n",
    "```python\n",
    "\n",
    "def add(a, b):\n",
    "    return a + b\n",
    "\n",
    "result = add(3, 5)  # 3 is assigned to 'a', 5 to 'b'\n",
    "print(result)  # Output: 8"
   ]
  },
  {
   "cell_type": "markdown",
   "id": "75361b4f-4559-48c1-8b2d-b18f9f78c0ca",
   "metadata": {},
   "source": [
    "**`2. Default Arguments`**\n",
    "\n",
    "Default arguments have predefined values. If a value is not provided when the function is called, the default value will be used.\n",
    "\n",
    "```python\n",
    "def greeting(name, message=\"Hello\"):\n",
    "    return f\"{message}, {name}!\"\n",
    "\n",
    "print(greeting(\"Maria\"))           # Output: \"Hello, Maria!\"\n",
    "print(greeting(\"João\", \"Hi\"))      # Output: \"Hi, João!\""
   ]
  },
  {
   "cell_type": "markdown",
   "id": "d86239ce-896d-4133-bc2a-655b0df1b1c9",
   "metadata": {},
   "source": [
    "**`3. Keyword Arguments`**\n",
    "\n",
    "Keyword arguments allow you to pass arguments using the parameter name, regardless of the order in which they appear in the function definition. This makes the code more readable and flexible.\n",
    "\n",
    "```python\n",
    "\n",
    "def introduce(name, age):\n",
    "    return f\"{name} is {age} years old.\"\n",
    "\n",
    "# Calls with keyword arguments\n",
    "print(introduce(age=25, name=\"Carlos\"))  # Output: \"Carlos is 25 years old.\"\n",
    "print(introduce(name=\"Ana\", age=30))      # Output: \"Ana is 30 years old.\""
   ]
  },
  {
   "cell_type": "markdown",
   "id": "c25eb7a6-2238-48d9-ba8f-105e82962399",
   "metadata": {},
   "source": [
    "**`4. Arbitrary Arguments`**\n",
    "\n",
    "Arbitrary arguments are used when you don't know in advance how many arguments will be passed to the function. \n",
    "\n",
    "\n",
    "**Example with `args`**\n",
    "\n",
    "To pass a variable number of positional arguments\n",
    "```python\n",
    "Copiar código\n",
    "def sum_all(*args):\n",
    "    return sum(args)\n",
    "\n",
    "print(sum_all(1, 2, 3))           # Output: 6\n",
    "print(sum_all(4, 5, 6, 7, 8, 9))  # Output: 39"
   ]
  },
  {
   "cell_type": "markdown",
   "id": "0b9b554b-5ef9-4222-b826-f3637e174a83",
   "metadata": {},
   "source": [
    "**Example with `kwargs`**\n",
    "\n",
    "To pass a variable number of keyword arguments.\n",
    "\n",
    "```python\n",
    "def display_info(**kwargs):\n",
    "    for key, value in kwargs.items():\n",
    "        print(f\"{key}: {value}\")\n",
    "\n",
    "display_info(name=\"Ana\", age=30, city=\"São Paulo\")\n",
    "# Output:\n",
    "# name: Ana\n",
    "# age: 30\n",
    "# city: São Paulo"
   ]
  }
 ],
 "metadata": {
  "kernelspec": {
   "display_name": "Python 3 (ipykernel)",
   "language": "python",
   "name": "python3"
  },
  "language_info": {
   "codemirror_mode": {
    "name": "ipython",
    "version": 3
   },
   "file_extension": ".py",
   "mimetype": "text/x-python",
   "name": "python",
   "nbconvert_exporter": "python",
   "pygments_lexer": "ipython3",
   "version": "3.9.20"
  }
 },
 "nbformat": 4,
 "nbformat_minor": 5
}
