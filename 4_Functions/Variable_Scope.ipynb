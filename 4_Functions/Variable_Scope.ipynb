{
 "cells": [
  {
   "cell_type": "markdown",
   "id": "521770d1-86b1-4a9f-b339-d26e7b30c05d",
   "metadata": {},
   "source": [
    "# Variable Scope\n",
    "\n",
    "Variable scope refers to the area of code where a variable is accessible. In Python, there are two main types of scope:\n",
    "\n",
    "**`1. Local Scope`**\n",
    "\n",
    "Variables defined within a function are local to that function.\n",
    "\n",
    "They cannot be accessed outside of the function.\n",
    "\n",
    "```python\n",
    "def example():\n",
    "    x = 10  # x is a local variable\n",
    "    return x\n",
    "\n",
    "print(example())  # Output: 10\n",
    "# print(x)  # This will raise an error, as x is not defined outside the function."
   ]
  },
  {
   "cell_type": "markdown",
   "id": "01c9197d-650d-421d-af7c-5a0d4b08c1c3",
   "metadata": {},
   "source": [
    "**`2. Global Scope`**\n",
    "\n",
    "Variables defined outside of all functions are global and can be accessed anywhere in the code.\n",
    "\n",
    "If a function needs to modify a global variable, you must use the global keyword.\n",
    "\n",
    "```python\n",
    "y = 5  # y is a global variable\n",
    "\n",
    "def modify_global():\n",
    "    global y\n",
    "    y += 1  # Modifies the global variable\n",
    "\n",
    "modify_global()\n",
    "print(y)  # Output: 6\n"
   ]
  },
  {
   "cell_type": "markdown",
   "id": "50e553ab-4a23-426c-992c-76d3949ec90b",
   "metadata": {},
   "source": [
    "# Variable Resolution\n",
    "\n",
    "Variable resolution refers to the process Python uses to find the value of a variable when it is referenced. Python follows the LEGB rule for variable resolution:\n",
    "\n",
    "**Local:** First, Python checks if the variable exists in the local scope of the function.\n",
    "\n",
    "**Enclosing:** If the function is nested, it checks the scopes of enclosing functions.\n",
    "\n",
    "**Global:** Next, it checks if the variable exists in the global scope.\n",
    "\n",
    "**Built-in:** Finally, it checks for built-in functions and objects that are always available in Python.\n",
    "\n",
    "\n",
    "```python\n",
    "\n",
    "x = 10  # global variable\n",
    "\n",
    "def outer_function():\n",
    "    x = 20  # local variable in the outer function\n",
    "\n",
    "    def inner_function():\n",
    "        x = 30  # local variable in the inner function\n",
    "        print(x)  # Refers to the local variable in the inner function\n",
    "\n",
    "    inner_function()\n",
    "    print(x)  # Refers to the local variable in the outer function\n",
    "\n",
    "outer_function()\n",
    "print(x)  # Refers to the global variable\n",
    "\n",
    "#Output:\n",
    "30\n",
    "20\n",
    "10"
   ]
  },
  {
   "cell_type": "markdown",
   "id": "cc703645-6857-4d07-af5f-e36c6952b62b",
   "metadata": {},
   "source": [
    "## Summary\n",
    "\n",
    "Scope defines where a variable can be accessed (local or global).\n",
    "\n",
    "Resolution is the process of determining which value a variable represents in a given context, following the LEGB order (Local, Enclosing, Global, Built-in)."
   ]
  }
 ],
 "metadata": {
  "kernelspec": {
   "display_name": "Python 3 (ipykernel)",
   "language": "python",
   "name": "python3"
  },
  "language_info": {
   "codemirror_mode": {
    "name": "ipython",
    "version": 3
   },
   "file_extension": ".py",
   "mimetype": "text/x-python",
   "name": "python",
   "nbconvert_exporter": "python",
   "pygments_lexer": "ipython3",
   "version": "3.9.20"
  }
 },
 "nbformat": 4,
 "nbformat_minor": 5
}
