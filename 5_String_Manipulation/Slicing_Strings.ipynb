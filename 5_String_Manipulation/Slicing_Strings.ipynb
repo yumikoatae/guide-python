{
 "cells": [
  {
   "cell_type": "markdown",
   "id": "87697467-797b-4125-90f1-1bc25a960be9",
   "metadata": {},
   "source": [
    "## Slicing\n",
    "\n",
    "**`start`** : The index of the first element to include in the slice (inclusive). Defaults to 0 if omitted.\n",
    "\n",
    "**`end:`**  The index of the first element to exclude (exclusive). Defaults to the length of the sequence if omitted.\n",
    "\n",
    "**`step`** : The increment between each index in the slice. Defaults to 1 if omitted.\n",
    "\n",
    "```python\n",
    "\n",
    "[start:end:step]"
   ]
  },
  {
   "cell_type": "markdown",
   "id": "c858123b-f9e3-4b96-bcff-a8ea381c0b95",
   "metadata": {},
   "source": [
    "**Examples**\n",
    "\n",
    "```python\n",
    "#Basic Slicing\n",
    "my_list[1:4] returns elements from index 1 to 3 (inclusive).\n",
    "\n",
    "#Omitting start or end\n",
    "my_list[:3] returns [0, 1, 2].\n",
    "my_list[3:] returns elements from index 3 to the end.\n",
    "    \n",
    "#Using step\n",
    "my_list[::2] returns every second element, e.g., [0, 2, 4].\n",
    "my_list[1:5:2] returns elements from index 1 to 4, stepping by 2.\n",
    "    \n",
    "#Negative Indexing in Slicing\n",
    "my_list[-5:-1] returns elements from index -5 to -2.\n",
    "my_list[::-1] reverses the list, producing [5, 4, 3, 2, 1, 0]."
   ]
  }
 ],
 "metadata": {
  "kernelspec": {
   "display_name": "Python 3 (ipykernel)",
   "language": "python",
   "name": "python3"
  },
  "language_info": {
   "codemirror_mode": {
    "name": "ipython",
    "version": 3
   },
   "file_extension": ".py",
   "mimetype": "text/x-python",
   "name": "python",
   "nbconvert_exporter": "python",
   "pygments_lexer": "ipython3",
   "version": "3.9.20"
  }
 },
 "nbformat": 4,
 "nbformat_minor": 5
}
