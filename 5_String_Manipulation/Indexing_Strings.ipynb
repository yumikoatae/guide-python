{
 "cells": [
  {
   "cell_type": "markdown",
   "id": "43d2324f-ec7f-4f70-8ade-0342c206bfc5",
   "metadata": {},
   "source": [
    "## Indexing\n",
    "\n",
    "**`Zero-Based Indexing`** \n",
    "\n",
    "Python uses zero-based indexing, meaning the first element is accessed with index 0. \n",
    "\n",
    "```python\n",
    "my_list = ['a', 'b', 'c'], my_list[0] returns 'a'."
   ]
  },
  {
   "cell_type": "code",
   "execution_count": null,
   "id": "087f71a0-e205-4097-9552-b0df9f60236e",
   "metadata": {},
   "outputs": [],
   "source": [
    "**`Negative Indexing`** \n",
    "\n",
    "You can use negative numbers to access elements from the end of the sequence. \n",
    "\n",
    "```python\n",
    "my_list[-1] returns the last element, which is 'c'."
   ]
  }
 ],
 "metadata": {
  "kernelspec": {
   "display_name": "Python 3 (ipykernel)",
   "language": "python",
   "name": "python3"
  },
  "language_info": {
   "codemirror_mode": {
    "name": "ipython",
    "version": 3
   },
   "file_extension": ".py",
   "mimetype": "text/x-python",
   "name": "python",
   "nbconvert_exporter": "python",
   "pygments_lexer": "ipython3",
   "version": "3.9.20"
  }
 },
 "nbformat": 4,
 "nbformat_minor": 5
}
