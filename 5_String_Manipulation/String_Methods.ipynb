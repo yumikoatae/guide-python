{
 "cells": [
  {
   "cell_type": "markdown",
   "id": "ac30c46a-e929-405e-b11f-b0abe77e6c13",
   "metadata": {},
   "source": [
    "### Common String Methods\n",
    "\n",
    "**`strip()`**: Removes whitespace from both the beginning and end of a string.\n",
    "  \n",
    "**`split(delimiter)`**: Splits a string into a list based on a specified delimiter (e.g., spaces, commas). If no delimiter is provided, it splits on whitespace by default.\n",
    "  \n",
    "**`join(iterable)`**: Joins elements of an iterable (like a list) into a single string, using a specified delimiter.\n",
    "  \n",
    "**`lower()`**: Converts all characters in the string to lowercase.\n",
    "  \n",
    "**`upper()`**: Converts all characters in the string to uppercase.\n",
    "  \n",
    "**`replace(old, new)`**: Replaces occurrences of a specified substring (`old`) with another substring (`new`).\n",
    "  \n",
    "**`find(substring)`**: Returns the index of the first occurrence of a specified substring; returns -1 if not found.\n",
    "  \n",
    "**`rfind(substring)`**: Returns the index of the last occurrence of a specified substring; returns -1 if not found.\n",
    "  \n",
    "**`count(substring)`**: Returns the number of occurrences of a specified substring in the string.\n",
    "  \n",
    "**`isalpha()`**: Returns `True` if all characters in the string are alphabetic; otherwise, returns `False`.\n",
    "  \n",
    "**`isdigit()`**: Returns `True` if all characters in the string are digits; otherwise, returns `False`.\n",
    "  \n",
    "**`capitalize()`**: Capitalizes the first character of the string and converts all other characters to lowercase.\n"
   ]
  }
 ],
 "metadata": {
  "kernelspec": {
   "display_name": "Python 3 (ipykernel)",
   "language": "python",
   "name": "python3"
  },
  "language_info": {
   "codemirror_mode": {
    "name": "ipython",
    "version": 3
   },
   "file_extension": ".py",
   "mimetype": "text/x-python",
   "name": "python",
   "nbconvert_exporter": "python",
   "pygments_lexer": "ipython3",
   "version": "3.9.20"
  }
 },
 "nbformat": 4,
 "nbformat_minor": 5
}
