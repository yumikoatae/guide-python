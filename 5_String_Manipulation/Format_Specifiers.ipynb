{
 "cells": [
  {
   "cell_type": "markdown",
   "id": "efcce681-18c3-49bb-8f39-9349664372a0",
   "metadata": {},
   "source": [
    "## Format Specifiers\n",
    "\n",
    "Format specifiers control how values are displayed in formatted strings. \n",
    "\n",
    "```python\n",
    "{value:flag}"
   ]
  },
  {
   "cell_type": "markdown",
   "id": "825b2e1d-7f64-43ab-bffa-f1910c91292b",
   "metadata": {},
   "source": [
    "**`1. Alignment`**\n",
    "\n",
    "```python\n",
    "<: Left-align (default).\n",
    "\n",
    ">: Right-align.\n",
    "\n",
    "^: Center-align."
   ]
  },
  {
   "cell_type": "markdown",
   "id": "cfffbbd4-cff5-4584-9aa4-04c42d45cf93",
   "metadata": {},
   "source": [
    "**`2. Padding`**\n",
    "```python\n",
    "Specify a character for padding before the alignment flag (e.g., :_<10)."
   ]
  },
  {
   "cell_type": "markdown",
   "id": "ae93f58d-0aeb-4688-acc1-67d9468c5ee9",
   "metadata": {},
   "source": [
    "**`3. Number Formatting`**\n",
    "```python\n",
    "d: Decimal integer.\n",
    "f: Floating-point number.\n",
    "x: Hexadecimal."
   ]
  },
  {
   "cell_type": "markdown",
   "id": "32f1535e-dc9d-460b-b129-11579a429e3f",
   "metadata": {},
   "source": [
    "**`4. Precision`**\n",
    "```python\n",
    "For floats, specify decimal places with a period (e.g., .2f for two decimal places)."
   ]
  },
  {
   "cell_type": "markdown",
   "id": "35e2fcc7-1596-4205-8f79-bba958db4246",
   "metadata": {},
   "source": [
    "**`5. Percentage`**\n",
    "```python\n",
    "Use % to format a number as a percentage (e.g., .1%)."
   ]
  },
  {
   "cell_type": "markdown",
   "id": "f928a7d2-0ceb-4e1e-b744-968603c52449",
   "metadata": {},
   "source": [
    "**`6. Comma Separator`**\n",
    "```python\n",
    "Use , to include commas as thousands separators (e.g., :,)."
   ]
  },
  {
   "cell_type": "markdown",
   "id": "1b6c5df9-563f-4f08-9d5d-e3585f7c2780",
   "metadata": {},
   "source": [
    "**`7. Sign`**\n",
    "```python\n",
    "+: Show the sign for positive numbers (e.g., +5).\n",
    ": Space for positive numbers (e.g., 5)."
   ]
  }
 ],
 "metadata": {
  "kernelspec": {
   "display_name": "Python 3 (ipykernel)",
   "language": "python",
   "name": "python3"
  },
  "language_info": {
   "codemirror_mode": {
    "name": "ipython",
    "version": 3
   },
   "file_extension": ".py",
   "mimetype": "text/x-python",
   "name": "python",
   "nbconvert_exporter": "python",
   "pygments_lexer": "ipython3",
   "version": "3.9.20"
  }
 },
 "nbformat": 4,
 "nbformat_minor": 5
}
