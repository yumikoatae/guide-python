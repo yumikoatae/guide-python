{
 "cells": [
  {
   "cell_type": "markdown",
   "id": "3808e727-1f59-4cca-974c-6e0f0a9635be",
   "metadata": {},
   "source": [
    "## Conditionals\n",
    "\n",
    "Conditionals allow you to execute code based on certain conditions.\n",
    "\n",
    "**`if`**: Executes a block of code **if** the condition is true.\n",
    "\n",
    "**`elif`**: Stands for **\"else if\"**; allows checking multiple conditions.\n",
    "\n",
    "**`else`**: Executes a block of code **if none** of the preceding conditions are true."
   ]
  },
  {
   "cell_type": "markdown",
   "id": "96ee3c1f-cfde-4f6d-aebc-8e245ff79df1",
   "metadata": {},
   "source": [
    "```python\n",
    "age = 18\n",
    "\n",
    "if age < 13:\n",
    "    print(\"You are a child.\")\n",
    "elif age < 18:\n",
    "    print(\"You are a teenager.\")\n",
    "else:\n",
    "    print(\"You are an adult.\")  # Output: You are an adult."
   ]
  },
  {
   "cell_type": "markdown",
   "id": "65c5296b-007c-406b-9b1b-144741f32b77",
   "metadata": {},
   "source": [
    "#### **One-Line Conditional (Ternary Operator)**\n",
    "\n",
    "Using one-line conditionals can make your code more concise for simple logic, but it's important to maintain readability, especially with complex conditions.\n",
    "\n",
    "```python\n",
    "value_if_true if condition else value_if_false"
   ]
  },
  {
   "cell_type": "markdown",
   "id": "7d7557ab-1005-418b-8502-5a7a659a8660",
   "metadata": {},
   "source": [
    "```python\n",
    "age = 15\n",
    "status = \"Child\" if age < 13 else \"Teenager\" if age < 18 else \"Adult\"\n",
    "print(status)  # Output: Teenager"
   ]
  }
 ],
 "metadata": {
  "kernelspec": {
   "display_name": "Python 3 (ipykernel)",
   "language": "python",
   "name": "python3"
  },
  "language_info": {
   "codemirror_mode": {
    "name": "ipython",
    "version": 3
   },
   "file_extension": ".py",
   "mimetype": "text/x-python",
   "name": "python",
   "nbconvert_exporter": "python",
   "pygments_lexer": "ipython3",
   "version": "3.9.20"
  }
 },
 "nbformat": 4,
 "nbformat_minor": 5
}
