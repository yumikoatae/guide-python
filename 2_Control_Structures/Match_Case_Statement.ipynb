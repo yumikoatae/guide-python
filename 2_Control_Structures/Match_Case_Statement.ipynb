{
 "cells": [
  {
   "cell_type": "markdown",
   "id": "c9563db0-94e7-4126-af62-b114c6bad997",
   "metadata": {},
   "source": [
    "# Match Case Statement (switch statements)\n",
    "\n",
    "The match case statement was introduced in Python 3.10 as a form of pattern matching, similar to switch statements in other languages like C or Java. It allows you to compare an expression against multiple patterns and execute the block of code corresponding to the first matching pattern.\n",
    "\n",
    "#### **Syntax**\n",
    "\n",
    "\n",
    "`expression`: The expression that will be evaluated.\n",
    "\n",
    "`pattern`: The value or structure you are trying to match against the expression.\n",
    "\n",
    "`_`: A wildcard pattern that captures any value that does not match the previous patterns.\n",
    "\n",
    "```python\n",
    "match expression:\n",
    "    case pattern1:\n",
    "        # Code to execute for pattern1\n",
    "    case pattern2:\n",
    "        # Code to execute for pattern2\n",
    "    case _:\n",
    "        # Code to execute if no patterns match\n"
   ]
  },
  {
   "cell_type": "markdown",
   "id": "086ae651-b8a9-486b-8156-7c13c51b9402",
   "metadata": {},
   "source": [
    "#### **Examples**\n",
    "\n",
    "\n",
    "**`Simple Matching`**: The basic matching compares the expression to direct values.\n",
    "\n",
    "```python\n",
    "x = 2\n",
    "\n",
    "match x:\n",
    "    case 1:\n",
    "        print(\"One\")\n",
    "    case 2:\n",
    "        print(\"Two\")\n",
    "    case 3:\n",
    "        print(\"Three\")\n",
    "    case _:\n",
    "        print(\"Other number\")\n",
    "# Output: \"Two\"\n"
   ]
  },
  {
   "cell_type": "markdown",
   "id": "7862e1a5-37f9-4147-a9e8-4ef3e7c3d0ab",
   "metadata": {},
   "source": [
    "**`List Matching`**: You can use match to match data structures like lists or tuples.\n",
    "\n",
    "```python\n",
    "coordinates = (0, 0)\n",
    "\n",
    "match coordinates:\n",
    "    case (0, 0):\n",
    "        print(\"Origin\")\n",
    "    case (x, 0):\n",
    "        print(f\"On the line x = {x}\")\n",
    "    case (0, y):\n",
    "        print(f\"On the column y = {y}\")\n",
    "    case (x, y):\n",
    "        print(f\"Point at ({x}, {y})\")\n",
    "# Output: \"Origin\"\n"
   ]
  },
  {
   "cell_type": "markdown",
   "id": "9c26f2e4-be1d-43a6-b460-0212acda5673",
   "metadata": {},
   "source": [
    "**`Destructuring Dictionaries`**: match also allows for direct destructuring of dictionaries.\n",
    "\n",
    "```python\n",
    "person = {\"name\": \"Ana\", \"age\": 30}\n",
    "\n",
    "match person:\n",
    "    case {\"name\": name, \"age\": age}:\n",
    "        print(f\"{name} is {age} years old.\")\n",
    "    case _:\n",
    "        print(\"Unrecognized data\")\n",
    "        \n",
    "# Output: \"Ana is 30 years old.\"\n"
   ]
  },
  {
   "cell_type": "markdown",
   "id": "530b790a-4952-4687-9d7f-5914e6a580b8",
   "metadata": {},
   "source": [
    "**`Pattern Combinations`**: You can use multiple conditions in a single case.\n",
    "\n",
    "```python\n",
    "value = [1, 2, 3]\n",
    "\n",
    "match value:\n",
    "    case [1, 2, 3]:\n",
    "        print(\"List with 1, 2, and 3\")\n",
    "    case [1, _, _]:\n",
    "        print(\"List starting with 1\")\n",
    "    case _:\n",
    "        print(\"Another type of list\")\n",
    "        \n",
    "# Output: \"List with 1, 2, and 3\""
   ]
  },
  {
   "cell_type": "markdown",
   "id": "e2e1b622-704d-46d0-a46e-070fb86ad4ae",
   "metadata": {},
   "source": [
    "### **Advantages of Match Case**\n",
    "\n",
    "**Clarity:** The match case can make code more readable and organized compared to multiple if-elif statements, especially when handling several conditions.\n",
    "\n",
    "**Complex Patterns:** It allows for matching complex data structures like lists and dictionaries in a more intuitive way.\n",
    "\n",
    "**Performance:** While the performance difference may not be significant in most cases, match can be more efficient than many chained if-elif statements, especially with complex matches.\n",
    "\n",
    "\n",
    "### **Final Considerations**\n",
    "\n",
    "The match case statement provides a new way to structure control logic in Python, enabling a more declarative and less verbose programming style. It is particularly useful when working with structured data and can make your code cleaner and easier to understand."
   ]
  }
 ],
 "metadata": {
  "kernelspec": {
   "display_name": "Python 3 (ipykernel)",
   "language": "python",
   "name": "python3"
  },
  "language_info": {
   "codemirror_mode": {
    "name": "ipython",
    "version": 3
   },
   "file_extension": ".py",
   "mimetype": "text/x-python",
   "name": "python",
   "nbconvert_exporter": "python",
   "pygments_lexer": "ipython3",
   "version": "3.9.20"
  }
 },
 "nbformat": 4,
 "nbformat_minor": 5
}
