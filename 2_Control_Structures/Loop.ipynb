{
 "cells": [
  {
   "cell_type": "markdown",
   "id": "a5a2ef01-54c2-4005-8f90-85d1609441a2",
   "metadata": {},
   "source": [
    "## While Loop\n",
    "\n",
    "**Purpose:** Executes a block of code repeatedly as long as a specified condition is true.\n",
    "\n",
    "**Syntax**\n",
    "\n",
    "```python\n",
    "while condition:\n",
    "    # Code to execute"
   ]
  },
  {
   "cell_type": "markdown",
   "id": "bae0659f-57ad-45cf-adb5-168e297ea2bb",
   "metadata": {},
   "source": [
    "**Usage:** The loop will continue until the condition evaluates to false. \n",
    "\n",
    "**Example**\n",
    "\n",
    "```python\n",
    "count = 0\n",
    "while count < 5:\n",
    "    print(count)\n",
    "    count += 1  # Increment to avoid infinite loop"
   ]
  },
  {
   "cell_type": "markdown",
   "id": "5348df58-22cd-4d2d-bfdf-92d6215290df",
   "metadata": {
    "jp-MarkdownHeadingCollapsed": true
   },
   "source": [
    "## For Loop\n",
    "\n",
    "**Purpose:** Used to iterate over a sequence (e.g., list, tuple, string, or range).\n",
    "\n",
    "**Syntax**\n",
    "\n",
    "```python\n",
    "for variable in sequence:\n",
    "    # Code to execute"
   ]
  },
  {
   "cell_type": "markdown",
   "id": "1ced3a31-ee0b-42e9-9050-5b3702aeee62",
   "metadata": {},
   "source": [
    "**Usage:** Iterate through elements of a collection.\n",
    "\n",
    "**Example:**\n",
    "\n",
    "```python\n",
    "for fruit in ['apple', 'banana', 'cherry']:\n",
    "    print(fruit)"
   ]
  },
  {
   "cell_type": "markdown",
   "id": "88d762b5-b6f1-4a11-829b-e81311c0329a",
   "metadata": {},
   "source": [
    "#### Iterate using the `range()` function:\n",
    "\n",
    "**`start`**: The starting value (inclusive). Defaults to 0 if omitted.\n",
    "\n",
    "**`stop`**: The end value (exclusive).\n",
    "\n",
    "**`step`**: The increment between numbers. Defaults to 1 if omitted.\n",
    "\n",
    "```python\n",
    "range(start, stop, step)"
   ]
  },
  {
   "cell_type": "markdown",
   "id": "ba8c7647-8ff8-42e5-9d1f-8babdbda41dc",
   "metadata": {},
   "source": [
    "**Example**\n",
    "\n",
    "```python\n",
    "for i in range(5):  # Iterates from 0 to 4\n",
    "    print(i)"
   ]
  },
  {
   "cell_type": "markdown",
   "id": "1afa2929-f1a2-4b5b-8a60-98a134bffc75",
   "metadata": {},
   "source": [
    "## Nested Loops\n",
    "\n",
    "Nested loops are loops inside another loop. They allow you to iterate over multiple sequences or create complex iterations.\n",
    "\n",
    "**Syntax**\n",
    "```python\n",
    "for outer in outer_sequence:\n",
    "    for inner in inner_sequence:\n",
    "        # Code to execute"
   ]
  },
  {
   "cell_type": "markdown",
   "id": "71ead97a-e262-4a9e-9588-32bc9e439413",
   "metadata": {},
   "source": [
    "**Example with `for`**\n",
    "\n",
    "```python\n",
    "for i in range(3):          # Outer loop\n",
    "    for j in range(2):      # Inner loop\n",
    "        print(f\"i={i}, j={j}\")\n",
    "        \n",
    "#Output:\n",
    "\n",
    "i=0, j=0\n",
    "i=0, j=1\n",
    "i=1, j=0\n",
    "i=1, j=1\n",
    "i=2, j=0\n",
    "i=2, j=1"
   ]
  },
  {
   "cell_type": "markdown",
   "id": "bb7d16c0-a424-4a0c-9fde-c4155a59b842",
   "metadata": {},
   "source": [
    "**Example with `while`**\n",
    "\n",
    "```python\n",
    "i = 0\n",
    "while i < 3:                # Outer loop\n",
    "    j = 0\n",
    "    while j < 2:            # Inner loop\n",
    "        print(f\"i={i}, j={j}\")\n",
    "        j += 1\n",
    "    i += 1\n",
    "\n",
    "#Output:\n",
    "\n",
    "i=0, j=0\n",
    "i=0, j=1\n",
    "i=1, j=0\n",
    "i=1, j=1\n",
    "i=2, j=0\n",
    "i=2, j=1"
   ]
  },
  {
   "cell_type": "markdown",
   "id": "cfb59ccc-863b-4209-a1fb-6b48d75efb79",
   "metadata": {},
   "source": [
    "### Useful Functions\n",
    "\n",
    "**`iter()`**: This function takes an iterable and returns an iterator.\n",
    "\n",
    "```python\n",
    "\n",
    "list_items = [1, 2, 3]\n",
    "iterator = iter(list_items)"
   ]
  },
  {
   "cell_type": "markdown",
   "id": "60b0b6d7-1d15-4734-a22e-189a24ddd99f",
   "metadata": {},
   "source": [
    "**`next()`**: This function is used to retrieve the next item from an iterator. If there are no more items, it raises a StopIteration exception.\n",
    "```python\n",
    "print(next(iterator))  # Output: 1\n",
    "\n",
    "You can continue calling next() on the iterator to retrieve subsequent items until the iterator is exhausted. "
   ]
  }
 ],
 "metadata": {
  "kernelspec": {
   "display_name": "Python 3 (ipykernel)",
   "language": "python",
   "name": "python3"
  },
  "language_info": {
   "codemirror_mode": {
    "name": "ipython",
    "version": 3
   },
   "file_extension": ".py",
   "mimetype": "text/x-python",
   "name": "python",
   "nbconvert_exporter": "python",
   "pygments_lexer": "ipython3",
   "version": "3.9.20"
  }
 },
 "nbformat": 4,
 "nbformat_minor": 5
}
