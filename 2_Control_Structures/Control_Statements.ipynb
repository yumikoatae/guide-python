{
 "cells": [
  {
   "cell_type": "markdown",
   "id": "14d69824-021c-4273-a3de-ff19c02809e2",
   "metadata": {},
   "source": [
    "## Control Statements: break, continue, pass\n",
    "\n",
    "Control statements alter the flow of loops or conditionals in Python.\n",
    "\n",
    "**`1. break`**\n",
    "\n",
    "**Purpose:** Terminates the current loop and exits it entirely.\n",
    "\n",
    "**Usage:** Often used to stop a loop when a specific condition is met.\n",
    "\n",
    "**Example**\n",
    "\n",
    "```python\n",
    "for i in range(10):\n",
    "    if i == 5:\n",
    "        break  # Exits the loop when i is 5\n",
    "    print(i)\n",
    "\n",
    "#Output:\n",
    "\n",
    "0\n",
    "1\n",
    "2\n",
    "3\n",
    "4"
   ]
  },
  {
   "cell_type": "markdown",
   "id": "69a09044-6255-4788-86b6-9a785bb5791a",
   "metadata": {},
   "source": [
    "**`2. continue`**\n",
    "\n",
    "**Purpose:** Skips the current iteration and continues to the next iteration of the loop.\n",
    "\n",
    "**Usage:** Useful when you want to skip specific cases without exiting the loop.\n",
    "\n",
    "**Example**\n",
    "\n",
    "```python\n",
    "for i in range(5):\n",
    "    if i == 2:\n",
    "        continue  # Skips the rest of the loop when i is 2\n",
    "    print(i)\n",
    "    \n",
    "#Output:\n",
    "\n",
    "0\n",
    "1\n",
    "3\n",
    "4"
   ]
  },
  {
   "cell_type": "markdown",
   "id": "aba76c05-ecd6-4b55-9623-f7ddb0a60f7c",
   "metadata": {},
   "source": [
    "**`3. pass`**\n",
    "\n",
    "**Purpose:** A no-operation statement. It does nothing and is used as a placeholder.\n",
    "\n",
    "**Usage:** Often used in situations where syntax requires a statement but you don’t want to execute any code (e.g., during development).\n",
    "\n",
    "**Example**\n",
    "\n",
    "```python\n",
    "for i in range(5):\n",
    "    if i == 2:\n",
    "        pass  # Placeholder for future code\n",
    "    print(i)\n",
    "    \n",
    "#Output:\n",
    "\n",
    "0\n",
    "1\n",
    "2\n",
    "3\n",
    "4"
   ]
  }
 ],
 "metadata": {
  "kernelspec": {
   "display_name": "Python 3 (ipykernel)",
   "language": "python",
   "name": "python3"
  },
  "language_info": {
   "codemirror_mode": {
    "name": "ipython",
    "version": 3
   },
   "file_extension": ".py",
   "mimetype": "text/x-python",
   "name": "python",
   "nbconvert_exporter": "python",
   "pygments_lexer": "ipython3",
   "version": "3.9.20"
  }
 },
 "nbformat": 4,
 "nbformat_minor": 5
}
