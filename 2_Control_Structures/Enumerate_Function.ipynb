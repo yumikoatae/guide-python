{
 "cells": [
  {
   "cell_type": "markdown",
   "id": "7654685f-1a57-4502-85c6-62719b57e668",
   "metadata": {},
   "source": [
    "## Understanding the `enumerate()` Function in Python\n",
    "\n",
    "The `enumerate()` function is used in for loops to iterate over a sequence (like a list or a string) while keeping track of the index of each element. This is particularly useful when you need both the index and the value during iteration.\n",
    "\n",
    "**Syntax**\n",
    "\n",
    "```python\n",
    "enumerate(sequence, start=0)"
   ]
  },
  {
   "cell_type": "markdown",
   "id": "ead38f28-f47c-46db-814e-d24a11758e91",
   "metadata": {},
   "source": [
    "**`sequence`**: The iterable you want to loop over (e.g., list, tuple, string).\n",
    "\n",
    "**`start`**: The starting index (default is 0).\n",
    "\n",
    "**Example**\n",
    "\n",
    "```python\n",
    "fruits = ['apple', 'banana', 'cherry']\n",
    "for index, fruit in enumerate(fruits):\n",
    "    print(f\"Index: {index}, Fruit: {fruit}\")\n",
    "    \n",
    "#Output:\n",
    "\n",
    "Index: 0, Fruit: apple\n",
    "Index: 1, Fruit: banana\n",
    "Index: 2, Fruit: cherry"
   ]
  },
  {
   "cell_type": "markdown",
   "id": "0ca0da67-ff50-4ede-a3bd-218e075a9007",
   "metadata": {},
   "source": [
    "#### **Benefits**\n",
    "\n",
    "**Cleaner Code:** Using enumerate() avoids the need to manually track the index with an additional variable.\n",
    "\n",
    "**Readability:** It makes the code more readable by clearly indicating that both the index and value are being used.\n",
    "\n",
    "**Custom Starting Index**\n",
    "\n",
    "**You can also specify a custom starting index:**\n",
    "\n",
    "```python\n",
    "\n",
    "for index, fruit in enumerate(fruits, start=1):\n",
    "    print(f\"Index: {index}, Fruit: {fruit}\")\n",
    "    \n",
    "#Output:\n",
    "\n",
    "Index: 1, Fruit: apple\n",
    "Index: 2, Fruit: banana\n",
    "Index: 3, Fruit: cherry"
   ]
  }
 ],
 "metadata": {
  "kernelspec": {
   "display_name": "Python 3 (ipykernel)",
   "language": "python",
   "name": "python3"
  },
  "language_info": {
   "codemirror_mode": {
    "name": "ipython",
    "version": 3
   },
   "file_extension": ".py",
   "mimetype": "text/x-python",
   "name": "python",
   "nbconvert_exporter": "python",
   "pygments_lexer": "ipython3",
   "version": "3.9.20"
  }
 },
 "nbformat": 4,
 "nbformat_minor": 5
}
