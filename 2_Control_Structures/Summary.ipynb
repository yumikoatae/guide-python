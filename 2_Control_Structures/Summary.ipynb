{
 "cells": [
  {
   "cell_type": "markdown",
   "id": "e7bf78ab-6db2-4c8c-8740-c9a51410a272",
   "metadata": {},
   "source": [
    "## Summary\n",
    "\n",
    "### Conditionals\n",
    "\n",
    "- The **if statement** allows you to execute a block of code conditionally based on whether an expression is true or false. It can be combined with `elif` (else if) and `else` to handle multiple conditions.\n",
    "  \n",
    "- The **while loop** is useful for situations where the number of iterations is not known in advance and depends on a condition, allowing for flexible repetition of code.\n",
    "  \n",
    "- The **for loop** is a powerful tool for executing a block of code multiple times for each item in a sequence or range, while the `range()` function provides a flexible way to generate sequences of numbers for iteration.\n",
    "  \n",
    "- **Nested loops** allow for more complex iterations, which are useful for working with multi-dimensional data structures like lists of lists. However, be cautious, as they can lead to increased time complexity.\n",
    "\n",
    "\n",
    "### Match-Case Statement\n",
    "\n",
    "- The **match-case statement**, introduced in Python 3.10, allows for pattern matching, similar to the **switch-case statements** in other programming languages. It simplifies the code when dealing with multiple conditions by matching values against specific patterns.\n",
    "\n",
    "- Basic usage: The match keyword is followed by a variable, and each case represents a potential match. If a match is found, the corresponding block of code is executed. The underscore (_) acts as a wildcard, similar to else, capturing any unmatched cases.\n",
    "\n",
    "- Advanced usage: match-case can handle more complex patterns, like decomposing data structures or matching specific conditions within tuples or lists.\n",
    "\n",
    "- When to use: It is useful for replacing long chains of if-elif-else blocks, improving code readability, and working with structured data or multiple matching conditions.\n",
    "\n",
    "### Control Statements\n",
    "\n",
    "- **`break:`** Exits the loop entirely.\n",
    "- **`continue:`** Skips the current iteration and proceeds to the next.\n",
    "- **`pass:`** Acts as a placeholder without performing any action.\n",
    "\n",
    "These control statements help manage the flow of loops and conditionals in Python effectively.\n",
    "\n",
    "- The **`enumerate()` function** is a convenient way to loop over a sequence while retrieving both the index and the value. It enhances code clarity and reduces the need for extra variables to track indices."
   ]
  }
 ],
 "metadata": {
  "kernelspec": {
   "display_name": "Python 3 (ipykernel)",
   "language": "python",
   "name": "python3"
  },
  "language_info": {
   "codemirror_mode": {
    "name": "ipython",
    "version": 3
   },
   "file_extension": ".py",
   "mimetype": "text/x-python",
   "name": "python",
   "nbconvert_exporter": "python",
   "pygments_lexer": "ipython3",
   "version": "3.9.20"
  }
 },
 "nbformat": 4,
 "nbformat_minor": 5
}
