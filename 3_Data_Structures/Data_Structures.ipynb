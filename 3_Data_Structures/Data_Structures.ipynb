{
 "cells": [
  {
   "cell_type": "markdown",
   "id": "f164df8a-cc2f-4728-b317-7f714129db5c",
   "metadata": {},
   "source": [
    "# Data Structures\n"
   ]
  },
  {
   "cell_type": "markdown",
   "id": "e5565e58-eca1-464f-bd2d-d9cbce6614d0",
   "metadata": {},
   "source": [
    "## Lists\n",
    "Ordered, mutable collections of items.\n",
    "\n",
    "**Syntax** \n",
    "```python\n",
    "Defined using square brackets []."
   ]
  },
  {
   "cell_type": "markdown",
   "id": "e85d4ec3-10db-462b-8519-19ddd8a4181e",
   "metadata": {},
   "source": [
    "**Key Features:**\n",
    "\n",
    "Can contain duplicate items.\n",
    "\n",
    "Elements can be accessed by index.\n",
    "\n",
    "Support various methods (e.g., append(), remove(), sort()).\n",
    "\n",
    "\n",
    "**Example**\n",
    "\n",
    "```python\n",
    "fruits = ['apple', 'banana', 'cherry']"
   ]
  },
  {
   "cell_type": "markdown",
   "id": "16335c75-191b-4d47-9c10-2253b07da05c",
   "metadata": {},
   "source": [
    "## Tuples\n",
    "\n",
    "Ordered, immutable collections of items.\n",
    "\n",
    "**Syntax** \n",
    "```python\n",
    "Defined using parentheses ()."
   ]
  },
  {
   "cell_type": "markdown",
   "id": "7e2cd3ce-c7e5-4963-8f7e-93a0327f1449",
   "metadata": {},
   "source": [
    "**Key Features:**\n",
    "\n",
    "Cannot be modified after creation (no add/remove).\n",
    "\n",
    "Can contain duplicate items.\n",
    "\n",
    "Useful for fixed collections of items (e.g., coordinates, RGB values).\n",
    "\n",
    "\n",
    "**Example**\n",
    "\n",
    "```python\n",
    "coordinates = (10.0, 20.0)"
   ]
  },
  {
   "cell_type": "markdown",
   "id": "d3a685f3-7128-41ee-bd22-e8a1ea37c8a6",
   "metadata": {},
   "source": [
    "## Dictionaries\n",
    "\n",
    "Unordered, mutable collections of key-value pairs.\n",
    "\n",
    "**Syntax** \n",
    "```python\n",
    "Defined using curly braces {} with key-value pairs separated by colons."
   ]
  },
  {
   "cell_type": "markdown",
   "id": "7c27be95-aac0-49f6-b814-237f6c40ff1e",
   "metadata": {},
   "source": [
    "**Key Features:**\n",
    "\n",
    "Keys must be unique and immutable (e.g., strings, numbers).\n",
    "\n",
    "Values can be of any data type and can be duplicated.\n",
    "    \n",
    "Accessed via keys, not indices.\n",
    "\n",
    "**Example**\n",
    "\n",
    "```python\n",
    "student = {'name': 'Alice', 'age': 21, 'major': 'Computer Science'}"
   ]
  },
  {
   "cell_type": "markdown",
   "id": "5f392c0b-3703-4b77-90cf-7e5604138178",
   "metadata": {},
   "source": [
    "## Sets\n",
    "\n",
    "Unordered collections of unique items.\n",
    "\n",
    "**Syntax** \n",
    "```python\n",
    "Defined using curly braces {} or the set() function."
   ]
  },
  {
   "cell_type": "markdown",
   "id": "ae7487fc-34b2-432c-ba9a-027847b95917",
   "metadata": {},
   "source": [
    "**Key Features:**\n",
    "\n",
    "No duplicate items allowed.\n",
    "\n",
    "Useful for membership testing and eliminating duplicates.\n",
    "\n",
    "Supports operations like union, intersection, and difference.\n",
    "\n",
    "**Example**\n",
    "```python\n",
    "unique_numbers = {1, 2, 3, 4, 5}"
   ]
  }
 ],
 "metadata": {
  "kernelspec": {
   "display_name": "Python 3 (ipykernel)",
   "language": "python",
   "name": "python3"
  },
  "language_info": {
   "codemirror_mode": {
    "name": "ipython",
    "version": 3
   },
   "file_extension": ".py",
   "mimetype": "text/x-python",
   "name": "python",
   "nbconvert_exporter": "python",
   "pygments_lexer": "ipython3",
   "version": "3.9.20"
  }
 },
 "nbformat": 4,
 "nbformat_minor": 5
}
