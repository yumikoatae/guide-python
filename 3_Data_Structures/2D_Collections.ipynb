{
 "cells": [
  {
   "cell_type": "markdown",
   "id": "82ba4e5b-d5fe-4ea0-b2b3-a5da2489e10a",
   "metadata": {},
   "source": [
    "## 2D Collections in Python\n",
    "\n",
    "A 2D collection is essentially a data structure that allows you to store data in a two-dimensional format, similar to a matrix or a grid. This can be represented using lists of lists, tuples, or other data structures.\n",
    "\n",
    "**`1. Lists of Lists`**\n",
    "\n",
    "One of the most common ways to create a 2D collection in Python is by using lists of lists.\n",
    "\n",
    "**Example**\n",
    "\n",
    "```python\n",
    "matrix = [\n",
    "    [1, 2, 3],\n",
    "    [4, 5, 6],\n",
    "    [7, 8, 9]\n",
    "]\n",
    "\n",
    "\n",
    "print(matrix[0][1])  # Output: 2\n",
    "\n",
    "matrix[1][1] = 10 # Changes the value from 5 to 10"
   ]
  },
  {
   "cell_type": "markdown",
   "id": "7dedfe12-1017-4181-8ea4-33abe95ff6f3",
   "metadata": {},
   "source": [
    "**`2. Using NumPy`**\n",
    "\n",
    "For more advanced operations, the NumPy library provides a powerful way to work with 2D arrays.\n",
    "\n",
    "**Example**\n",
    "\n",
    "```python\n",
    "import numpy as np  # NumPy allows for vectorized operations, making calculations on 2D data efficient and easy.\n",
    "\n",
    "matrix = np.array([[1, 2, 3], [4, 5, 6], [7, 8, 9]])\n",
    "\n",
    "print(matrix[0, 1])  # Output: 2"
   ]
  },
  {
   "cell_type": "markdown",
   "id": "8f4c660b-ef0b-47fb-a9f1-f006040fa5aa",
   "metadata": {},
   "source": [
    "**`3. Dictionaries of Lists`**\n",
    "\n",
    "Another way to represent a 2D collection is by using dictionaries, where keys can represent one dimension and values can be lists.\n",
    "\n",
    "**Example**\n",
    "\n",
    "```python\n",
    "data = {\n",
    "    'row1': [1, 2, 3],\n",
    "    'row2': [4, 5, 6],\n",
    "    'row3': [7, 8, 9]\n",
    "}\n",
    "\n",
    "print(data['row2'][1])  # Output: 5"
   ]
  }
 ],
 "metadata": {
  "kernelspec": {
   "display_name": "Python 3 (ipykernel)",
   "language": "python",
   "name": "python3"
  },
  "language_info": {
   "codemirror_mode": {
    "name": "ipython",
    "version": 3
   },
   "file_extension": ".py",
   "mimetype": "text/x-python",
   "name": "python",
   "nbconvert_exporter": "python",
   "pygments_lexer": "ipython3",
   "version": "3.9.20"
  }
 },
 "nbformat": 4,
 "nbformat_minor": 5
}
