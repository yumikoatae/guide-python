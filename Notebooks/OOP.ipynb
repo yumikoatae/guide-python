{
 "cells": [
  {
   "cell_type": "markdown",
   "id": "3d1b7c9a-08ea-4eb0-bf53-ac9876ca91bb",
   "metadata": {},
   "source": [
    "Object-Oriented Programming (OOP)\n",
    "Classes and Objects\n",
    "__init__ method: The initializer method that is called when an object is created. It sets up the initial state of the object by assigning values to its attributes.\n",
    "Special Methods:\n",
    "__str__: Defines a human-readable string representation of the object. Used by the print() function.\n",
    "__repr__: Defines a more formal string representation of the object, ideally one that could be used to recreate the object. Useful for debugging."
   ]
  }
 ],
 "metadata": {
  "kernelspec": {
   "display_name": "Python 3 (ipykernel)",
   "language": "python",
   "name": "python3"
  },
  "language_info": {
   "codemirror_mode": {
    "name": "ipython",
    "version": 3
   },
   "file_extension": ".py",
   "mimetype": "text/x-python",
   "name": "python",
   "nbconvert_exporter": "python",
   "pygments_lexer": "ipython3",
   "version": "3.9.20"
  }
 },
 "nbformat": 4,
 "nbformat_minor": 5
}
