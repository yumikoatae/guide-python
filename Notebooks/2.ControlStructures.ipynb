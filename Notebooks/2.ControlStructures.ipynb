{
 "cells": [
  {
   "cell_type": "markdown",
   "id": "6d6a42a8-aad3-4264-b72d-9b7bf2de5e12",
   "metadata": {},
   "source": [
    "# Control Structures\n",
    "\n",
    "Control structures are essential for managing the flow of a program. They enable you to execute code conditionally, repeat code through loops, and control loop behavior with statements."
   ]
  },
  {
   "cell_type": "markdown",
   "id": "14391c18-6314-48bc-80ae-d8af895ac9ee",
   "metadata": {},
   "source": [
    "## Conditionals\n",
    "\n",
    "Conditionals allow you to execute code based on certain conditions.\n",
    "\n",
    "**`if`**: Executes a block of code **if** the condition is true.\n",
    "\n",
    "**`elif`**: Stands for **\"else if\"**; allows checking multiple conditions.\n",
    "\n",
    "**`else`**: Executes a block of code **if none** of the preceding conditions are true."
   ]
  },
  {
   "cell_type": "markdown",
   "id": "9c29b496-c01d-4189-8b5d-08a06adde5e2",
   "metadata": {},
   "source": [
    "```python\n",
    "age = 18\n",
    "\n",
    "if age < 13:\n",
    "    print(\"You are a child.\")\n",
    "elif age < 18:\n",
    "    print(\"You are a teenager.\")\n",
    "else:\n",
    "    print(\"You are an adult.\")  # Output: You are an adult."
   ]
  },
  {
   "cell_type": "markdown",
   "id": "db021a99-e6e9-42a6-95d2-aeb2cfd33205",
   "metadata": {},
   "source": [
    "#### **One-Line Conditional (Ternary Operator)**\n",
    "\n",
    "Using one-line conditionals can make your code more concise for simple logic, but it's important to maintain readability, especially with complex conditions.\n",
    "\n",
    "```python\n",
    "value_if_true if condition else value_if_false"
   ]
  },
  {
   "cell_type": "markdown",
   "id": "e5001895-887b-42eb-8ec9-c17bf2df603f",
   "metadata": {},
   "source": [
    "```python\n",
    "age = 15\n",
    "status = \"Child\" if age < 13 else \"Teenager\" if age < 18 else \"Adult\"\n",
    "print(status)  # Output: Teenager"
   ]
  },
  {
   "cell_type": "markdown",
   "id": "a5a2ef01-54c2-4005-8f90-85d1609441a2",
   "metadata": {},
   "source": [
    "## While Loop\n",
    "\n",
    "**Purpose:** Executes a block of code repeatedly as long as a specified condition is true.\n",
    "\n",
    "**Syntax**\n",
    "\n",
    "```python\n",
    "while condition:\n",
    "    # Code to execute"
   ]
  },
  {
   "cell_type": "markdown",
   "id": "bae0659f-57ad-45cf-adb5-168e297ea2bb",
   "metadata": {},
   "source": [
    "**Usage:** The loop will continue until the condition evaluates to false. \n",
    "\n",
    "**Example**\n",
    "\n",
    "```python\n",
    "count = 0\n",
    "while count < 5:\n",
    "    print(count)\n",
    "    count += 1  # Increment to avoid infinite loop"
   ]
  },
  {
   "cell_type": "markdown",
   "id": "5348df58-22cd-4d2d-bfdf-92d6215290df",
   "metadata": {},
   "source": [
    "## For Loop\n",
    "\n",
    "**Purpose:** Used to iterate over a sequence (e.g., list, tuple, string, or range).\n",
    "\n",
    "**Syntax**\n",
    "\n",
    "```python\n",
    "for variable in sequence:\n",
    "    # Code to execute"
   ]
  },
  {
   "cell_type": "markdown",
   "id": "1ced3a31-ee0b-42e9-9050-5b3702aeee62",
   "metadata": {},
   "source": [
    "**Usage:** Iterate through elements of a collection.\n",
    "\n",
    "**Example:**\n",
    "\n",
    "```python\n",
    "for fruit in ['apple', 'banana', 'cherry']:\n",
    "    print(fruit)"
   ]
  },
  {
   "cell_type": "markdown",
   "id": "88d762b5-b6f1-4a11-829b-e81311c0329a",
   "metadata": {},
   "source": [
    "#### Iterate using the `range()` function:\n",
    "\n",
    "**`start`**: The starting value (inclusive). Defaults to 0 if omitted.\n",
    "\n",
    "**`stop`**: The end value (exclusive).\n",
    "\n",
    "**`step`**: The increment between numbers. Defaults to 1 if omitted.\n",
    "\n",
    "```python\n",
    "range(start, stop, step)"
   ]
  },
  {
   "cell_type": "markdown",
   "id": "ba8c7647-8ff8-42e5-9d1f-8babdbda41dc",
   "metadata": {},
   "source": [
    "**Example**\n",
    "\n",
    "```python\n",
    "for i in range(5):  # Iterates from 0 to 4\n",
    "    print(i)"
   ]
  },
  {
   "cell_type": "markdown",
   "id": "1afa2929-f1a2-4b5b-8a60-98a134bffc75",
   "metadata": {},
   "source": [
    "## Nested Loops\n",
    "\n",
    "Nested loops are loops inside another loop. They allow you to iterate over multiple sequences or create complex iterations.\n",
    "\n",
    "**Syntax**\n",
    "```python\n",
    "for outer in outer_sequence:\n",
    "    for inner in inner_sequence:\n",
    "        # Code to execute"
   ]
  },
  {
   "cell_type": "markdown",
   "id": "71ead97a-e262-4a9e-9588-32bc9e439413",
   "metadata": {},
   "source": [
    "**Example with `for`**\n",
    "\n",
    "```python\n",
    "for i in range(3):          # Outer loop\n",
    "    for j in range(2):      # Inner loop\n",
    "        print(f\"i={i}, j={j}\")\n",
    "        \n",
    "#Output:\n",
    "\n",
    "i=0, j=0\n",
    "i=0, j=1\n",
    "i=1, j=0\n",
    "i=1, j=1\n",
    "i=2, j=0\n",
    "i=2, j=1"
   ]
  },
  {
   "cell_type": "markdown",
   "id": "bb7d16c0-a424-4a0c-9fde-c4155a59b842",
   "metadata": {},
   "source": [
    "**Example with `while`**\n",
    "\n",
    "```python\n",
    "i = 0\n",
    "while i < 3:                # Outer loop\n",
    "    j = 0\n",
    "    while j < 2:            # Inner loop\n",
    "        print(f\"i={i}, j={j}\")\n",
    "        j += 1\n",
    "    i += 1\n",
    "\n",
    "#Output:\n",
    "\n",
    "i=0, j=0\n",
    "i=0, j=1\n",
    "i=1, j=0\n",
    "i=1, j=1\n",
    "i=2, j=0\n",
    "i=2, j=1"
   ]
  },
  {
   "cell_type": "markdown",
   "id": "2556bfda-6b24-45aa-8e89-b2049043a4f2",
   "metadata": {},
   "source": [
    "## Control Statements in Python: break, continue, pass\n",
    "\n",
    "Control statements alter the flow of loops or conditionals in Python.\n",
    "\n",
    "**`1. break`**\n",
    "\n",
    "**Purpose:** Terminates the current loop and exits it entirely.\n",
    "\n",
    "**Usage:** Often used to stop a loop when a specific condition is met.\n",
    "\n",
    "**Example**\n",
    "\n",
    "```python\n",
    "for i in range(10):\n",
    "    if i == 5:\n",
    "        break  # Exits the loop when i is 5\n",
    "    print(i)\n",
    "\n",
    "#Output:\n",
    "\n",
    "0\n",
    "1\n",
    "2\n",
    "3\n",
    "4"
   ]
  },
  {
   "cell_type": "markdown",
   "id": "8481ae2c-16b1-4fb5-9fc9-01e0b6806017",
   "metadata": {},
   "source": [
    "**`2. continue`**\n",
    "\n",
    "**Purpose:** Skips the current iteration and continues to the next iteration of the loop.\n",
    "\n",
    "**Usage:** Useful when you want to skip specific cases without exiting the loop.\n",
    "\n",
    "**Example**\n",
    "\n",
    "```python\n",
    "for i in range(5):\n",
    "    if i == 2:\n",
    "        continue  # Skips the rest of the loop when i is 2\n",
    "    print(i)\n",
    "    \n",
    "#Output:\n",
    "\n",
    "0\n",
    "1\n",
    "3\n",
    "4"
   ]
  },
  {
   "cell_type": "markdown",
   "id": "c8680f20-31a5-429c-9c10-41617021cbf8",
   "metadata": {},
   "source": [
    "**`3. pass`**\n",
    "\n",
    "**Purpose:** A no-operation statement. It does nothing and is used as a placeholder.\n",
    "\n",
    "**Usage:** Often used in situations where syntax requires a statement but you don’t want to execute any code (e.g., during development).\n",
    "\n",
    "**Example**\n",
    "\n",
    "```python\n",
    "for i in range(5):\n",
    "    if i == 2:\n",
    "        pass  # Placeholder for future code\n",
    "    print(i)\n",
    "    \n",
    "#Output:\n",
    "\n",
    "0\n",
    "1\n",
    "2\n",
    "3\n",
    "4"
   ]
  },
  {
   "cell_type": "markdown",
   "id": "a9cb9340-5b02-4f63-ae3c-f24ccfaebc8f",
   "metadata": {},
   "source": [
    "## Understanding the `enumerate()` Function in Python\n",
    "\n",
    "The `enumerate()` function is used in for loops to iterate over a sequence (like a list or a string) while keeping track of the index of each element. This is particularly useful when you need both the index and the value during iteration.\n",
    "\n",
    "**Syntax**\n",
    "\n",
    "```python\n",
    "enumerate(sequence, start=0)"
   ]
  },
  {
   "cell_type": "markdown",
   "id": "b0d7c2c0-0479-4919-bca0-74b5bc2191e3",
   "metadata": {},
   "source": [
    "**`sequence`**: The iterable you want to loop over (e.g., list, tuple, string).\n",
    "\n",
    "**`start`**: The starting index (default is 0).\n",
    "\n",
    "**Example**\n",
    "\n",
    "```python\n",
    "fruits = ['apple', 'banana', 'cherry']\n",
    "for index, fruit in enumerate(fruits):\n",
    "    print(f\"Index: {index}, Fruit: {fruit}\")\n",
    "    \n",
    "#Output:\n",
    "\n",
    "Index: 0, Fruit: apple\n",
    "Index: 1, Fruit: banana\n",
    "Index: 2, Fruit: cherry"
   ]
  },
  {
   "cell_type": "markdown",
   "id": "53845b6e-672d-4453-a694-4b2a4477f75b",
   "metadata": {},
   "source": [
    "#### **Benefits**\n",
    "\n",
    "**Cleaner Code:** Using enumerate() avoids the need to manually track the index with an additional variable.\n",
    "\n",
    "**Readability:** It makes the code more readable by clearly indicating that both the index and value are being used.\n",
    "\n",
    "**Custom Starting Index**\n",
    "\n",
    "**You can also specify a custom starting index:**\n",
    "\n",
    "```python\n",
    "\n",
    "for index, fruit in enumerate(fruits, start=1):\n",
    "    print(f\"Index: {index}, Fruit: {fruit}\")\n",
    "    \n",
    "#Output:\n",
    "\n",
    "Index: 1, Fruit: apple\n",
    "Index: 2, Fruit: banana\n",
    "Index: 3, Fruit: cherry"
   ]
  },
  {
   "cell_type": "markdown",
   "id": "d24f4537-b7dc-47a4-9d15-ed7d26c141b2",
   "metadata": {},
   "source": [
    "## Summary\n",
    "\n",
    "### Conditionals\n",
    "\n",
    "- The **if statement** allows you to execute a block of code conditionally based on whether an expression is true or false. It can be combined with `elif` (else if) and `else` to handle multiple conditions.\n",
    "  \n",
    "- The **while loop** is useful for situations where the number of iterations is not known in advance and depends on a condition, allowing for flexible repetition of code.\n",
    "  \n",
    "- The **for loop** is a powerful tool for executing a block of code multiple times for each item in a sequence or range, while the `range()` function provides a flexible way to generate sequences of numbers for iteration.\n",
    "  \n",
    "- **Nested loops** allow for more complex iterations, which are useful for working with multi-dimensional data structures like lists of lists. However, be cautious, as they can lead to increased time complexity.\n",
    "\n",
    "### Control Statements\n",
    "\n",
    "- **`break:`** Exits the loop entirely.\n",
    "- **`continue:`** Skips the current iteration and proceeds to the next.\n",
    "- **`pass:`** Acts as a placeholder without performing any action.\n",
    "\n",
    "These control statements help manage the flow of loops and conditionals in Python effectively.\n",
    "\n",
    "- The **`enumerate()` function** is a convenient way to loop over a sequence while retrieving both the index and the value. It enhances code clarity and reduces the need for extra variables to track indices.\n"
   ]
  },
  {
   "cell_type": "code",
   "execution_count": null,
   "id": "a7a80cd2-059d-4104-ad7e-bb4fbfa07829",
   "metadata": {},
   "outputs": [],
   "source": []
  }
 ],
 "metadata": {
  "kernelspec": {
   "display_name": "Python 3 (ipykernel)",
   "language": "python",
   "name": "python3"
  },
  "language_info": {
   "codemirror_mode": {
    "name": "ipython",
    "version": 3
   },
   "file_extension": ".py",
   "mimetype": "text/x-python",
   "name": "python",
   "nbconvert_exporter": "python",
   "pygments_lexer": "ipython3",
   "version": "3.9.20"
  }
 },
 "nbformat": 4,
 "nbformat_minor": 5
}
