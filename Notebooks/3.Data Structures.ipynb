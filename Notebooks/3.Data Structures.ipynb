{
 "cells": [
  {
   "cell_type": "markdown",
   "id": "f164df8a-cc2f-4728-b317-7f714129db5c",
   "metadata": {},
   "source": [
    "# Data Structures\n",
    "\n",
    "This section covers key concepts like indexing and slicing for accessing elements, as well as various structures such as lists, tuples, dictionaries, sets, and 2D collections."
   ]
  },
  {
   "cell_type": "markdown",
   "id": "e5565e58-eca1-464f-bd2d-d9cbce6614d0",
   "metadata": {},
   "source": [
    "## Lists\n",
    "Ordered, mutable collections of items.\n",
    "\n",
    "**Syntax** \n",
    "```python\n",
    "Defined using square brackets []."
   ]
  },
  {
   "cell_type": "markdown",
   "id": "e85d4ec3-10db-462b-8519-19ddd8a4181e",
   "metadata": {},
   "source": [
    "**Key Features:**\n",
    "\n",
    "Can contain duplicate items.\n",
    "\n",
    "Elements can be accessed by index.\n",
    "\n",
    "Support various methods (e.g., append(), remove(), sort()).\n",
    "\n",
    "\n",
    "**Example**\n",
    "\n",
    "```python\n",
    "fruits = ['apple', 'banana', 'cherry']"
   ]
  },
  {
   "cell_type": "markdown",
   "id": "16335c75-191b-4d47-9c10-2253b07da05c",
   "metadata": {},
   "source": [
    "## Tuples\n",
    "\n",
    "Ordered, immutable collections of items.\n",
    "\n",
    "**Syntax** \n",
    "```python\n",
    "Defined using parentheses ()."
   ]
  },
  {
   "cell_type": "markdown",
   "id": "7e2cd3ce-c7e5-4963-8f7e-93a0327f1449",
   "metadata": {},
   "source": [
    "**Key Features:**\n",
    "\n",
    "Cannot be modified after creation (no add/remove).\n",
    "\n",
    "Can contain duplicate items.\n",
    "\n",
    "Useful for fixed collections of items (e.g., coordinates, RGB values).\n",
    "\n",
    "\n",
    "**Example**\n",
    "\n",
    "```python\n",
    "coordinates = (10.0, 20.0)"
   ]
  },
  {
   "cell_type": "markdown",
   "id": "d3a685f3-7128-41ee-bd22-e8a1ea37c8a6",
   "metadata": {},
   "source": [
    "## Dictionaries\n",
    "\n",
    "Unordered, mutable collections of key-value pairs.\n",
    "\n",
    "**Syntax** \n",
    "```python\n",
    "Defined using curly braces {} with key-value pairs separated by colons."
   ]
  },
  {
   "cell_type": "markdown",
   "id": "7c27be95-aac0-49f6-b814-237f6c40ff1e",
   "metadata": {},
   "source": [
    "**Key Features:**\n",
    "\n",
    "Keys must be unique and immutable (e.g., strings, numbers).\n",
    "\n",
    "Values can be of any data type and can be duplicated.\n",
    "    \n",
    "Accessed via keys, not indices.\n",
    "\n",
    "**Example**\n",
    "\n",
    "```python\n",
    "student = {'name': 'Alice', 'age': 21, 'major': 'Computer Science'}"
   ]
  },
  {
   "cell_type": "markdown",
   "id": "5f392c0b-3703-4b77-90cf-7e5604138178",
   "metadata": {},
   "source": [
    "## Sets\n",
    "\n",
    "Unordered collections of unique items.\n",
    "\n",
    "**Syntax** \n",
    "```python\n",
    "Defined using curly braces {} or the set() function."
   ]
  },
  {
   "cell_type": "markdown",
   "id": "ae7487fc-34b2-432c-ba9a-027847b95917",
   "metadata": {},
   "source": [
    "**Key Features:**\n",
    "\n",
    "No duplicate items allowed.\n",
    "\n",
    "Useful for membership testing and eliminating duplicates.\n",
    "\n",
    "Supports operations like union, intersection, and difference.\n",
    "\n",
    "**Example**\n",
    "```python\n",
    "unique_numbers = {1, 2, 3, 4, 5}"
   ]
  },
  {
   "cell_type": "markdown",
   "id": "85435cc6-ac7b-4a8d-9fb1-1dba0e041fb7",
   "metadata": {},
   "source": [
    "## 2D Collections in Python\n",
    "\n",
    "A 2D collection is essentially a data structure that allows you to store data in a two-dimensional format, similar to a matrix or a grid. This can be represented using lists of lists, tuples, or other data structures.\n",
    "\n",
    "**`1. Lists of Lists`**\n",
    "\n",
    "One of the most common ways to create a 2D collection in Python is by using lists of lists.\n",
    "\n",
    "**Example**\n",
    "\n",
    "```python\n",
    "matrix = [\n",
    "    [1, 2, 3],\n",
    "    [4, 5, 6],\n",
    "    [7, 8, 9]\n",
    "]\n",
    "\n",
    "\n",
    "print(matrix[0][1])  # Output: 2\n",
    "\n",
    "matrix[1][1] = 10 # Changes the value from 5 to 10"
   ]
  },
  {
   "cell_type": "markdown",
   "id": "ec9a0361-7452-4f15-ba9f-0269a1e4a24c",
   "metadata": {},
   "source": [
    "**`2. Using NumPy`**\n",
    "\n",
    "For more advanced operations, the NumPy library provides a powerful way to work with 2D arrays.\n",
    "\n",
    "**Example**\n",
    "\n",
    "```python\n",
    "import numpy as np  # NumPy allows for vectorized operations, making calculations on 2D data efficient and easy.\n",
    "\n",
    "matrix = np.array([[1, 2, 3], [4, 5, 6], [7, 8, 9]])\n",
    "\n",
    "print(matrix[0, 1])  # Output: 2"
   ]
  },
  {
   "cell_type": "markdown",
   "id": "e10e76de-72f2-4059-8404-f3d36ed2c0ed",
   "metadata": {},
   "source": [
    "**`3. Dictionaries of Lists`**\n",
    "\n",
    "Another way to represent a 2D collection is by using dictionaries, where keys can represent one dimension and values can be lists.\n",
    "\n",
    "**Example**\n",
    "\n",
    "```python\n",
    "data = {\n",
    "    'row1': [1, 2, 3],\n",
    "    'row2': [4, 5, 6],\n",
    "    'row3': [7, 8, 9]\n",
    "}\n",
    "\n",
    "print(data['row2'][1])  # Output: 5"
   ]
  },
  {
   "cell_type": "markdown",
   "id": "62fffb42-ffbc-4c17-9026-882451938e25",
   "metadata": {},
   "source": [
    "## Slicing\n",
    "\n",
    "**`start`** : The index of the first element to include in the slice (inclusive). Defaults to 0 if omitted.\n",
    "\n",
    "**`end:`**  The index of the first element to exclude (exclusive). Defaults to the length of the sequence if omitted.\n",
    "\n",
    "**`step`** : The increment between each index in the slice. Defaults to 1 if omitted.\n",
    "\n",
    "```python\n",
    "\n",
    "[start:end:step]"
   ]
  },
  {
   "cell_type": "markdown",
   "id": "93ad8e6c-6686-4929-bcb1-b6e1a5e70ce4",
   "metadata": {},
   "source": [
    "**Examples**\n",
    "\n",
    "```python\n",
    "#Basic Slicing\n",
    "my_list[1:4] returns elements from index 1 to 3 (inclusive).\n",
    "\n",
    "#Omitting start or end\n",
    "my_list[:3] returns [0, 1, 2].\n",
    "my_list[3:] returns elements from index 3 to the end.\n",
    "    \n",
    "#Using step\n",
    "my_list[::2] returns every second element, e.g., [0, 2, 4].\n",
    "my_list[1:5:2] returns elements from index 1 to 4, stepping by 2.\n",
    "    \n",
    "#Negative Indexing in Slicing\n",
    "my_list[-5:-1] returns elements from index -5 to -2.\n",
    "my_list[::-1] reverses the list, producing [5, 4, 3, 2, 1, 0]."
   ]
  },
  {
   "cell_type": "markdown",
   "id": "502b60f9-05d7-4fd8-9c30-0e06ea443133",
   "metadata": {},
   "source": [
    "## Format Specifiers\n",
    "\n",
    "Format specifiers control how values are displayed in formatted strings. \n",
    "\n",
    "```python\n",
    "{value:flag}"
   ]
  },
  {
   "cell_type": "markdown",
   "id": "d5a76b1c-a9d5-4d13-8bb6-640a8eac36b2",
   "metadata": {},
   "source": [
    "**`1. Alignment`**\n",
    "\n",
    "```python\n",
    "<: Left-align (default).\n",
    "\n",
    ">: Right-align.\n",
    "\n",
    "^: Center-align."
   ]
  },
  {
   "cell_type": "markdown",
   "id": "72abfb16-17bf-4f28-8f35-af2ef199f062",
   "metadata": {},
   "source": [
    "**`2. Padding`**\n",
    "```python\n",
    "Specify a character for padding before the alignment flag (e.g., :_<10).\n"
   ]
  },
  {
   "cell_type": "markdown",
   "id": "b88a9465-812e-485d-8e62-f0c81ea27565",
   "metadata": {},
   "source": [
    "**`3. Number Formatting`**\n",
    "```python\n",
    "d: Decimal integer.\n",
    "f: Floating-point number.\n",
    "x: Hexadecimal."
   ]
  },
  {
   "cell_type": "markdown",
   "id": "4af84917-24ca-42a9-93da-123f037b1466",
   "metadata": {},
   "source": [
    "**`4. Precision`**\n",
    "```python\n",
    "For floats, specify decimal places with a period (e.g., .2f for two decimal places)."
   ]
  },
  {
   "cell_type": "markdown",
   "id": "12568936-b99c-489b-b14b-fea6cd2fb953",
   "metadata": {},
   "source": [
    "**`5. Percentage`**\n",
    "```python\n",
    "Use % to format a number as a percentage (e.g., .1%)."
   ]
  },
  {
   "cell_type": "markdown",
   "id": "d8991549-e1c2-4b06-85d1-683a9a23321e",
   "metadata": {},
   "source": [
    "**`6. Comma Separator`**\n",
    "```python\n",
    "Use , to include commas as thousands separators (e.g., :,)."
   ]
  },
  {
   "cell_type": "markdown",
   "id": "8f5d0efa-5036-45d8-8c35-247fd47f6fd2",
   "metadata": {},
   "source": [
    "**`7. Sign`**\n",
    "```python\n",
    "+: Show the sign for positive numbers (e.g., +5).\n",
    ": Space for positive numbers (e.g., 5)."
   ]
  },
  {
   "cell_type": "markdown",
   "id": "0f439bed-62b2-4c3c-abfd-3e148c0a0e61",
   "metadata": {},
   "source": [
    "## String Manipulation\n",
    "\n",
    "String manipulation involves modifying and working with text data in Python. Common string methods allow you to perform operations such as trimming whitespace, splitting and joining strings, changing case, and searching for substrings. These methods are essential for processing and handling textual data effectively.\n",
    "\n",
    "### Common String Methods\n",
    "\n",
    "**`strip()`**: Removes whitespace from both the beginning and end of a string.\n",
    "  \n",
    "**`split(delimiter)`**: Splits a string into a list based on a specified delimiter (e.g., spaces, commas). If no delimiter is provided, it splits on whitespace by default.\n",
    "  \n",
    "**`join(iterable)`**: Joins elements of an iterable (like a list) into a single string, using a specified delimiter.\n",
    "  \n",
    "**`lower()`**: Converts all characters in the string to lowercase.\n",
    "  \n",
    "**`upper()`**: Converts all characters in the string to uppercase.\n",
    "  \n",
    "**`replace(old, new)`**: Replaces occurrences of a specified substring (`old`) with another substring (`new`).\n",
    "  \n",
    "**`find(substring)`**: Returns the index of the first occurrence of a specified substring; returns -1 if not found.\n",
    "  \n",
    "**`rfind(substring)`**: Returns the index of the last occurrence of a specified substring; returns -1 if not found.\n",
    "  \n",
    "**`count(substring)`**: Returns the number of occurrences of a specified substring in the string.\n",
    "  \n",
    "**`isalpha()`**: Returns `True` if all characters in the string are alphabetic; otherwise, returns `False`.\n",
    "  \n",
    "**`isdigit()`**: Returns `True` if all characters in the string are digits; otherwise, returns `False`.\n",
    "  \n",
    "**`capitalize()`**: Capitalizes the first character of the string and converts all other characters to lowercase.\n"
   ]
  },
  {
   "cell_type": "markdown",
   "id": "5e8b6498-2163-4017-8324-bd527d3bd99b",
   "metadata": {},
   "source": [
    "## Indexing\n",
    "\n",
    "**`Zero-Based Indexing`** \n",
    "\n",
    "Python uses zero-based indexing, meaning the first element is accessed with index 0. \n",
    "\n",
    "```python\n",
    "my_list = ['a', 'b', 'c'], my_list[0] returns 'a'."
   ]
  },
  {
   "cell_type": "markdown",
   "id": "44500e83-e036-4e6d-895f-62d01968478a",
   "metadata": {},
   "source": [
    "**`Negative Indexing`** \n",
    "\n",
    "You can use negative numbers to access elements from the end of the sequence. \n",
    "\n",
    "```python\n",
    "my_list[-1] returns the last element, which is 'c'."
   ]
  },
  {
   "cell_type": "markdown",
   "id": "ffe687e9-42ca-4cc0-98b9-fee6a2d3e18e",
   "metadata": {},
   "source": [
    "## Summary\n",
    "\n",
    "- **Indexing and Slicing**: Indexing allows you to access individual elements using their positions, while slicing enables you to extract subsets of a sequence efficiently. Together, they provide powerful tools for data manipulation in Python.\n",
    "\n",
    "- **Output Formatting**: Using format specifiers allows for customized and clear output formatting in Python, enhancing readability and presentation.\n",
    "\n",
    "### Data Structures\n",
    "\n",
    "- **Lists**: Ordered and mutable collections, allowing duplicates.\n",
    "- **Tuples**: Ordered and immutable collections, allowing duplicates.\n",
    "- **Dictionaries**: Unordered collections of key-value pairs, mutable.\n",
    "- **Sets**: Unordered collections of unique items, useful for mathematical operations.\n",
    "\n",
    "### 2D Collections\n",
    "\n",
    "2D collections in Python can be represented in various ways, including:\n",
    "\n",
    "- Lists of lists for simple grid-like structures.\n",
    "- NumPy arrays for more advanced numerical operations.\n",
    "- Dictionaries of lists for labeled rows."
   ]
  }
 ],
 "metadata": {
  "kernelspec": {
   "display_name": "Python 3 (ipykernel)",
   "language": "python",
   "name": "python3"
  },
  "language_info": {
   "codemirror_mode": {
    "name": "ipython",
    "version": 3
   },
   "file_extension": ".py",
   "mimetype": "text/x-python",
   "name": "python",
   "nbconvert_exporter": "python",
   "pygments_lexer": "ipython3",
   "version": "3.9.20"
  }
 },
 "nbformat": 4,
 "nbformat_minor": 5
}
