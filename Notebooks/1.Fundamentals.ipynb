{
 "cells": [
  {
   "cell_type": "markdown",
   "id": "fd7d23f4-0697-4d8c-9c7d-1f1a8855b1de",
   "metadata": {},
   "source": [
    "# Fundamentals of Python\n",
    "\n",
    "## Introduction\n",
    "This notebook covers the fundamental concepts of the Python language, including variables, typecasting, operators, and mathematical functions. It serves as a guide for beginners and a reference for developing programmers."
   ]
  },
  {
   "cell_type": "markdown",
   "id": "2c629775-cca3-4294-8530-ca4f5069f6e3",
   "metadata": {},
   "source": [
    "## Variable in Python\n",
    "\n",
    "A variable is a name assigned to a value, allowing for data storage and manipulation. The type is inferred automatically based on the assigned value."
   ]
  },
  {
   "cell_type": "code",
   "execution_count": 1,
   "id": "f984730c-c907-43cf-b2cd-e9b88b63df46",
   "metadata": {},
   "outputs": [
    {
     "name": "stdout",
     "output_type": "stream",
     "text": [
      "Hello World!\n"
     ]
    }
   ],
   "source": [
    "variable = \"World\"\n",
    "print(f\"Hello {variable}!\")   # Hello World!"
   ]
  },
  {
   "cell_type": "markdown",
   "id": "31361bc6-3b01-49b5-889f-d181dfc3412f",
   "metadata": {},
   "source": [
    "## Typecasting\n",
    "\n",
    "Typecasting refers to the process of converting a variable from one data type to another. This allows for flexibility in data manipulation and ensures compatibility between different data types in Python."
   ]
  },
  {
   "cell_type": "markdown",
   "id": "1edb184a-7685-4669-ae73-16c9c3d2769d",
   "metadata": {},
   "source": [
    "**`int()`**: Converts a variable to an **integer**.  \n",
    "```python\n",
    "list_str = [\"1\", \"2\", \"3\"]\n",
    "list_int = [int(num) for num in list_str]  # Output: [1, 2, 3]\n",
    "print(list_int)"
   ]
  },
  {
   "cell_type": "markdown",
   "id": "1da371d2-6d04-4206-96a0-040d64307cd1",
   "metadata": {},
   "source": [
    "**`float()`**: Converts a variable to a **float**.  \n",
    "```python\n",
    "numbers = [\"1.5\", \"2.3\", \"3.7\"]\n",
    "float_numbers = [float(num) for num in numbers]  # Output: [1.5, 2.3, 3.7]\n",
    "print(float_numbers)"
   ]
  },
  {
   "cell_type": "markdown",
   "id": "999d1ffc-9927-4a99-8a81-eb9dd413693e",
   "metadata": {},
   "source": [
    "**`str()`**: Converts a variable to a **string**.  \n",
    "```python\n",
    "numbers = [1, 2, 3]\n",
    "string_numbers = [str(num) for num in numbers]  # Output: ['1', '2', '3']\n",
    "print(string_numbers)"
   ]
  },
  {
   "cell_type": "markdown",
   "id": "a549a7c3-88cb-4169-a2f2-73b56c5bcd99",
   "metadata": {},
   "source": [
    "**`bool()`**: Converts a variable to a **boolean**.  \n",
    "```python\n",
    "values = [0, 1, \"\", \"Hello\"]\n",
    "bool_values = [bool(value) for value in values]  # Output: [False, True, False, True]\n",
    "print(bool_values)"
   ]
  },
  {
   "cell_type": "markdown",
   "id": "7daed60e-6640-4857-973b-ab39518bab8b",
   "metadata": {},
   "source": [
    "**`list()`**: Converts a variable to a **list**.  \n",
    "```python\n",
    "tuple_data = (1, 2, 3)\n",
    "list_data = list(tuple_data)  # Output: [1, 2, 3]\n",
    "print(list_data)"
   ]
  },
  {
   "cell_type": "markdown",
   "id": "05b355ff-2a98-4466-95d7-716ab08af956",
   "metadata": {},
   "source": [
    "**`tuple()`**: Converts a variable to a **tuple**.  \n",
    "```python\n",
    "list_data = [1, 2, 3]\n",
    "tuple_data = tuple(list_data)  # Output: (1, 2, 3)\n",
    "print(tuple_data)"
   ]
  },
  {
   "cell_type": "markdown",
   "id": "ce2108db-254b-4e24-b88f-73d2ffe304c6",
   "metadata": {},
   "source": [
    "## Arithmetic Operators\n",
    "\n",
    "These operators perform basic mathematical operations.\n",
    "\n",
    "\n",
    "<table style=\"font-size: 14px; border-collapse: collapse; width: 50%;\">\n",
    "    <tr>\n",
    "        <th style=\"border: none; padding: 5px; text-align: center;\">Operator</th>\n",
    "        <th style=\"border: none; padding: 5px; text-align: center;\">Description</th>\n",
    "        <th style=\"border: none; padding: 5px; text-align: center;\">Example</th>\n",
    "    </tr>\n",
    "    <tr>\n",
    "        <td style=\"border: none; padding: 5px; text-align: center;\"><strong>+</strong></td>\n",
    "        <td style=\"border: none; padding: 5px; text-align: center;\">Addition</td>\n",
    "        <td style=\"border: none; padding: 5px; text-align: center;\"><code>3 + 2</code> → 5</td>\n",
    "    </tr>\n",
    "    <tr>\n",
    "        <td style=\"border: none; padding: 5px; text-align: center;\"><strong>-</strong></td>\n",
    "        <td style=\"border: none; padding: 5px; text-align: center;\">Subtraction</td>\n",
    "        <td style=\"border: none; padding: 5px; text-align: center;\"><code>5 - 3</code> → 2</td>\n",
    "    </tr>\n",
    "    <tr>\n",
    "        <td style=\"border: none; padding: 5px; text-align: center;\"><strong>*</strong></td>\n",
    "        <td style=\"border: none; padding: 5px; text-align: center;\">Multiplication</td>\n",
    "        <td style=\"border: none; padding: 5px; text-align: center;\"><code>4 * 2</code> → 8</td>\n",
    "    </tr>\n",
    "    <tr>\n",
    "        <td style=\"border: none; padding: 5px; text-align: center;\"><strong>/</strong></td>\n",
    "        <td style=\"border: none; padding: 5px; text-align: center;\">Division</td>\n",
    "        <td style=\"border: none; padding: 5px; text-align: center;\"><code>7 / 2</code> → 3.5</td>\n",
    "    </tr>\n",
    "    <tr>\n",
    "        <td style=\"border: none; padding: 5px; text-align: center;\"><strong>//</strong></td>\n",
    "        <td style=\"border: none; padding: 5px; text-align: center;\">Floor Division</td>\n",
    "        <td style=\"border: none; padding: 5px; text-align: center;\"><code>7 // 2</code> → 3</td>\n",
    "    </tr>\n",
    "    <tr>\n",
    "        <td style=\"border: none; padding: 5px; text-align: center;\"><strong>%</strong></td>\n",
    "        <td style=\"border: none; padding: 5px; text-align: center;\">Modulus</td>\n",
    "        <td style=\"border: none; padding: 5px; text-align: center;\"><code>7 % 2</code> → 1</td>\n",
    "    </tr>\n",
    "    <tr>\n",
    "        <td style=\"border: none; padding: 5px; text-align: center;\"><strong>**</strong></td>\n",
    "        <td style=\"border: none; padding: 5px; text-align: center;\">Exponentiation</td>\n",
    "        <td style=\"border: none; padding: 5px; text-align: center;\"><code>2 ** 3</code> → 8</td>\n",
    "    </tr>\n",
    "</table>\n"
   ]
  },
  {
   "cell_type": "markdown",
   "id": "f62f3adc-90e4-4258-ae7f-6622a2a6c5e6",
   "metadata": {},
   "source": [
    "## Mathematical Functions"
   ]
  },
  {
   "cell_type": "markdown",
   "id": "b3b62bda-7646-4deb-9c0e-627e8290bd28",
   "metadata": {},
   "source": [
    "**`pow()`**: Raises a base to an exponent. Optionally takes a modulus.\n",
    "  ```python\n",
    "  pow(2, 3)  # Returns 8 = (2³)"
   ]
  },
  {
   "cell_type": "markdown",
   "id": "796b17e1-b573-4782-b0cc-ce90133f1761",
   "metadata": {},
   "source": [
    "**`max()`**: Returns the **largest** of the given arguments or the largest item in an iterable.\n",
    "  ```python\n",
    "  max(1, 2, 3, 4)  # Returns 4"
   ]
  },
  {
   "cell_type": "markdown",
   "id": "6b71fe59-f447-4ef1-99d1-21a867f64618",
   "metadata": {},
   "source": [
    "**`min()`**: Returns the **smallest** of the given arguments or the smallest item in an iterable.\n",
    "  ```python\n",
    "  min(1, 2, 3, 4) 1  # Returns 1"
   ]
  },
  {
   "cell_type": "markdown",
   "id": "22e4206e-d83a-4307-9d71-739f08c12ad2",
   "metadata": {},
   "source": [
    "**`abs()`**: Returns the **absolute** value of a number.\n",
    "  ```python\n",
    "  abs(-5)   # Returns 5"
   ]
  },
  {
   "cell_type": "markdown",
   "id": "95f60b09-d486-4dda-9f0c-86c6f0d889b4",
   "metadata": {},
   "source": [
    "**`round()`**: **Rounds** a number to the nearest integer or to a specified number of decimal places.\n",
    "  ```python\n",
    "  round(3.14159, 2)   # Returns 3.14"
   ]
  },
  {
   "cell_type": "markdown",
   "id": "f0e58b04-0385-4a4d-b99a-fff1038b340e",
   "metadata": {},
   "source": [
    "## Relational Operators\n",
    "\n",
    "Relational operators are used to compare values."
   ]
  },
  {
   "cell_type": "markdown",
   "id": "adf76019-d39c-4c2e-abc4-6bff0c5eb956",
   "metadata": {},
   "source": [
    "<table style=\"font-size: 14px; border-collapse: collapse; width: 50%;\">\n",
    "    <tr>\n",
    "        <th style=\"border: none; padding: 5px; text-align: center;\">Operator</th>\n",
    "        <th style=\"border: none; padding: 5px; text-align: center;\">Description</th>\n",
    "        <th style=\"border: none; padding: 5px; text-align: center;\">Example</th>\n",
    "    </tr>\n",
    "    <tr>\n",
    "        <td style=\"border: none; padding: 5px; text-align: center;\"><strong>==</strong></td>\n",
    "        <td style=\"border: none; padding: 5px; text-align: center;\">Equal to.</td>\n",
    "        <td style=\"border: none; padding: 5px; text-align: center;\"><code>5 == 5</code> → True</td>\n",
    "    </tr>\n",
    "    <tr>\n",
    "        <td style=\"border: none; padding: 5px; text-align: center;\"><strong>!=</strong></td>\n",
    "        <td style=\"border: none; padding: 5px; text-align: center;\">Not equal to.</td>\n",
    "        <td style=\"border: none; padding: 5px; text-align: center;\"><code>5 != 3</code> → True</td>\n",
    "    </tr>\n",
    "    <tr>\n",
    "        <td style=\"border: none; padding: 5px; text-align: center;\"><strong>&gt;</strong></td>\n",
    "        <td style=\"border: none; padding: 5px; text-align: center;\">Greater than.</td>\n",
    "        <td style=\"border: none; padding: 5px; text-align: center;\"><code>5 > 3</code> → True</td>\n",
    "    </tr>\n",
    "    <tr>\n",
    "        <td style=\"border: none; padding: 5px; text-align: center;\"><strong>&lt;</strong></td>\n",
    "        <td style=\"border: none; padding: 5px; text-align: center;\">Less than.</td>\n",
    "        <td style=\"border: none; padding: 5px; text-align: center;\"><code>3 < 5</code> → True</td>\n",
    "    </tr>\n",
    "    <tr>\n",
    "        <td style=\"border: none; padding: 5px; text-align: center;\"><strong>&gt;=</strong></td>\n",
    "        <td style=\"border: none; padding: 5px; text-align: center;\">Greater than or equal to.</td>\n",
    "        <td style=\"border: none; padding: 5px; text-align: center;\"><code>5 >= 5</code> → True</td>\n",
    "    </tr>\n",
    "    <tr>\n",
    "        <td style=\"border: none; padding: 5px; text-align: center;\"><strong>&lt;=</strong></td>\n",
    "        <td style=\"border: none; padding: 5px; text-align: center;\">Less than or equal to.</td>\n",
    "        <td style=\"border: none; padding: 5px; text-align: center;\"><code>3 <= 5</code> → True</td>\n",
    "    </tr>\n",
    "</table>"
   ]
  },
  {
   "cell_type": "markdown",
   "id": "fbe0f9b8-9edf-4944-8089-3a9738cae859",
   "metadata": {},
   "source": [
    "## Logical Operators\n",
    "\n",
    "Logical operators combine boolean expressions."
   ]
  },
  {
   "cell_type": "markdown",
   "id": "3d3fd01d-cb7e-4587-89ae-41da1c5c173c",
   "metadata": {},
   "source": [
    "**`and`**: Returns **True** if both expressions are true.\n",
    "  ```python\n",
    "  a = True\n",
    "  b = False\n",
    "  result = a and b  # Returns False"
   ]
  },
  {
   "cell_type": "markdown",
   "id": "7d1f4935-ab8a-47b1-9ea0-0c5d9b7a0c1f",
   "metadata": {},
   "source": [
    "**`or`**: Returns **True** if at least one expression is true.\n",
    "  ```python\n",
    "  a = True\n",
    "  b = False\n",
    "  result = a or b  # Returns True"
   ]
  },
  {
   "cell_type": "markdown",
   "id": "904ab0a4-3354-47a6-8deb-580ca1bfb904",
   "metadata": {},
   "source": [
    "**`not`**: Inverts the boolean value of the expression.\n",
    "  ```python\n",
    "  a = True\n",
    "  result = not a  # Returns False"
   ]
  },
  {
   "cell_type": "markdown",
   "id": "c881a756-0042-428f-91be-d2baefeb45c4",
   "metadata": {},
   "source": [
    "## Special Operators\n",
    "\n",
    "Special operators are used to check membership and identity."
   ]
  },
  {
   "cell_type": "markdown",
   "id": "9eb452a3-fc08-4607-949d-72f5f9aa1f16",
   "metadata": {},
   "source": [
    "#### **Membership Operators**\n",
    "Use membership operators to check for the existence of a value in a collection.\n",
    "    \n",
    "**`in`**  Returns **True** if a value exists in a sequence (e.g., list, tuple, string).\n",
    "\n",
    "**`not in`**  Returns **True** if a value does not exist in a sequence.\n",
    "\n",
    "  ```python\n",
    "  my_list = [1, 2, 3]\n",
    "  result = 2 in my_list  # Returns True"
   ]
  },
  {
   "cell_type": "markdown",
   "id": "e216bcfe-44ea-4a2f-b392-11404fda398e",
   "metadata": {},
   "source": [
    "#### **Identity Operators**\n",
    "Use identity operators to compare whether two variables point to the same object in memory.\n",
    "\n",
    "**`is`** Returns **True** if two variables refer to the same object in memory.\n",
    "\n",
    "**`is not`** Returns **True** if two variables do not refer to the same object.\n",
    "\n",
    "  \n",
    "  ```python\n",
    "  c = [1, 2, 3]\n",
    "  result = a is not c  # Returns True"
   ]
  },
  {
   "cell_type": "markdown",
   "id": "34c6c770-21ae-40d0-8238-e31e088a0505",
   "metadata": {},
   "source": [
    "## Dynamic Typing in Python\n",
    "\n",
    "Python is a dynamically typed language, meaning that variable types are determined at runtime.\n",
    "\n",
    "**Variable Type Assignment**: You don’t need to declare variable types explicitly; a variable can change types during execution.\n",
    "\n",
    "**Flexibility**: This allows for quick coding and easier modifications.\n",
    "\n",
    "**Type Checking**: Type checks happen at runtime, which can lead to runtime errors if incompatible types are used together.\n",
    "\n",
    "**Implications**: While dynamic typing enhances flexibility, it may introduce bugs that are harder to detect early. Type hints can be used to improve clarity and maintainability."
   ]
  },
  {
   "cell_type": "markdown",
   "id": "af5f9163-35c8-4329-9757-2bbd81c481aa",
   "metadata": {},
   "source": [
    "## Understanding the `help()` Function in Python\n",
    "\n",
    "The `help()` function displays documentation for modules, functions, classes, and more, providing an interactive way to access Python's help system."
   ]
  },
  {
   "cell_type": "markdown",
   "id": "afab1e38-1048-4bf9-97b7-2fed1dc5a70e",
   "metadata": {},
   "source": [
    "#### Usage\n",
    "\n",
    "**General Help**: Call `help()` to enter interactive help mode.\n",
    "\n",
    "**Specific Object**: Pass an object to get its documentation.\n",
    "```python\n",
    "help(str)  # Documentation for the str class\n",
    "help(len)  # Documentation for the len function"
   ]
  }
 ],
 "metadata": {
  "kernelspec": {
   "display_name": "Python 3 (ipykernel)",
   "language": "python",
   "name": "python3"
  },
  "language_info": {
   "codemirror_mode": {
    "name": "ipython",
    "version": 3
   },
   "file_extension": ".py",
   "mimetype": "text/x-python",
   "name": "python",
   "nbconvert_exporter": "python",
   "pygments_lexer": "ipython3",
   "version": "3.9.20"
  }
 },
 "nbformat": 4,
 "nbformat_minor": 5
}
